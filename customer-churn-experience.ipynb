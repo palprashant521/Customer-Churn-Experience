{
 "cells": [
  {
   "cell_type": "code",
   "execution_count": 1,
   "metadata": {
    "execution": {
     "iopub.execute_input": "2022-04-04T14:49:19.179778Z",
     "iopub.status.busy": "2022-04-04T14:49:19.178846Z",
     "iopub.status.idle": "2022-04-04T14:49:19.190502Z",
     "shell.execute_reply": "2022-04-04T14:49:19.189336Z",
     "shell.execute_reply.started": "2022-04-04T14:49:19.179735Z"
    }
   },
   "outputs": [],
   "source": [
    "import numpy as np\n",
    "import pandas as pd\n",
    "import seaborn as sns\n",
    "import matplotlib.pyplot as plt\n",
    "%matplotlib inline"
   ]
  },
  {
   "cell_type": "code",
   "execution_count": 2,
   "metadata": {
    "execution": {
     "iopub.execute_input": "2022-04-04T14:49:19.192278Z",
     "iopub.status.busy": "2022-04-04T14:49:19.192023Z",
     "iopub.status.idle": "2022-04-04T14:49:19.200210Z",
     "shell.execute_reply": "2022-04-04T14:49:19.199355Z",
     "shell.execute_reply.started": "2022-04-04T14:49:19.192245Z"
    }
   },
   "outputs": [],
   "source": [
    "import plotly.express as px\n",
    "import plotly.graph_objects as go\n",
    "from plotly.subplots import make_subplots\n",
    "pd.set_option('display.max_columns',None)\n",
    "plt.style.use('seaborn')"
   ]
  },
  {
   "cell_type": "code",
   "execution_count": 3,
   "metadata": {
    "execution": {
     "iopub.execute_input": "2022-04-04T14:49:19.202479Z",
     "iopub.status.busy": "2022-04-04T14:49:19.201523Z",
     "iopub.status.idle": "2022-04-04T14:49:19.250100Z",
     "shell.execute_reply": "2022-04-04T14:49:19.249308Z",
     "shell.execute_reply.started": "2022-04-04T14:49:19.202390Z"
    }
   },
   "outputs": [],
   "source": [
    "df = pd.read_csv('WA_Fn-UseC_-Telco-Customer-Churn.csv')"
   ]
  },
  {
   "cell_type": "code",
   "execution_count": 4,
   "metadata": {
    "execution": {
     "iopub.execute_input": "2022-04-04T14:49:19.252672Z",
     "iopub.status.busy": "2022-04-04T14:49:19.251391Z",
     "iopub.status.idle": "2022-04-04T14:49:19.280640Z",
     "shell.execute_reply": "2022-04-04T14:49:19.279457Z",
     "shell.execute_reply.started": "2022-04-04T14:49:19.252603Z"
    }
   },
   "outputs": [
    {
     "data": {
      "text/html": [
       "<div>\n",
       "<style scoped>\n",
       "    .dataframe tbody tr th:only-of-type {\n",
       "        vertical-align: middle;\n",
       "    }\n",
       "\n",
       "    .dataframe tbody tr th {\n",
       "        vertical-align: top;\n",
       "    }\n",
       "\n",
       "    .dataframe thead th {\n",
       "        text-align: right;\n",
       "    }\n",
       "</style>\n",
       "<table border=\"1\" class=\"dataframe\">\n",
       "  <thead>\n",
       "    <tr style=\"text-align: right;\">\n",
       "      <th></th>\n",
       "      <th>customerID</th>\n",
       "      <th>gender</th>\n",
       "      <th>SeniorCitizen</th>\n",
       "      <th>Partner</th>\n",
       "      <th>Dependents</th>\n",
       "      <th>tenure</th>\n",
       "      <th>PhoneService</th>\n",
       "      <th>MultipleLines</th>\n",
       "      <th>InternetService</th>\n",
       "      <th>OnlineSecurity</th>\n",
       "      <th>OnlineBackup</th>\n",
       "      <th>DeviceProtection</th>\n",
       "      <th>TechSupport</th>\n",
       "      <th>StreamingTV</th>\n",
       "      <th>StreamingMovies</th>\n",
       "      <th>Contract</th>\n",
       "      <th>PaperlessBilling</th>\n",
       "      <th>PaymentMethod</th>\n",
       "      <th>MonthlyCharges</th>\n",
       "      <th>TotalCharges</th>\n",
       "      <th>Churn</th>\n",
       "    </tr>\n",
       "  </thead>\n",
       "  <tbody>\n",
       "    <tr>\n",
       "      <th>0</th>\n",
       "      <td>7590-VHVEG</td>\n",
       "      <td>Female</td>\n",
       "      <td>0</td>\n",
       "      <td>Yes</td>\n",
       "      <td>No</td>\n",
       "      <td>1</td>\n",
       "      <td>No</td>\n",
       "      <td>No phone service</td>\n",
       "      <td>DSL</td>\n",
       "      <td>No</td>\n",
       "      <td>Yes</td>\n",
       "      <td>No</td>\n",
       "      <td>No</td>\n",
       "      <td>No</td>\n",
       "      <td>No</td>\n",
       "      <td>Month-to-month</td>\n",
       "      <td>Yes</td>\n",
       "      <td>Electronic check</td>\n",
       "      <td>29.85</td>\n",
       "      <td>29.85</td>\n",
       "      <td>No</td>\n",
       "    </tr>\n",
       "    <tr>\n",
       "      <th>1</th>\n",
       "      <td>5575-GNVDE</td>\n",
       "      <td>Male</td>\n",
       "      <td>0</td>\n",
       "      <td>No</td>\n",
       "      <td>No</td>\n",
       "      <td>34</td>\n",
       "      <td>Yes</td>\n",
       "      <td>No</td>\n",
       "      <td>DSL</td>\n",
       "      <td>Yes</td>\n",
       "      <td>No</td>\n",
       "      <td>Yes</td>\n",
       "      <td>No</td>\n",
       "      <td>No</td>\n",
       "      <td>No</td>\n",
       "      <td>One year</td>\n",
       "      <td>No</td>\n",
       "      <td>Mailed check</td>\n",
       "      <td>56.95</td>\n",
       "      <td>1889.5</td>\n",
       "      <td>No</td>\n",
       "    </tr>\n",
       "    <tr>\n",
       "      <th>2</th>\n",
       "      <td>3668-QPYBK</td>\n",
       "      <td>Male</td>\n",
       "      <td>0</td>\n",
       "      <td>No</td>\n",
       "      <td>No</td>\n",
       "      <td>2</td>\n",
       "      <td>Yes</td>\n",
       "      <td>No</td>\n",
       "      <td>DSL</td>\n",
       "      <td>Yes</td>\n",
       "      <td>Yes</td>\n",
       "      <td>No</td>\n",
       "      <td>No</td>\n",
       "      <td>No</td>\n",
       "      <td>No</td>\n",
       "      <td>Month-to-month</td>\n",
       "      <td>Yes</td>\n",
       "      <td>Mailed check</td>\n",
       "      <td>53.85</td>\n",
       "      <td>108.15</td>\n",
       "      <td>Yes</td>\n",
       "    </tr>\n",
       "    <tr>\n",
       "      <th>3</th>\n",
       "      <td>7795-CFOCW</td>\n",
       "      <td>Male</td>\n",
       "      <td>0</td>\n",
       "      <td>No</td>\n",
       "      <td>No</td>\n",
       "      <td>45</td>\n",
       "      <td>No</td>\n",
       "      <td>No phone service</td>\n",
       "      <td>DSL</td>\n",
       "      <td>Yes</td>\n",
       "      <td>No</td>\n",
       "      <td>Yes</td>\n",
       "      <td>Yes</td>\n",
       "      <td>No</td>\n",
       "      <td>No</td>\n",
       "      <td>One year</td>\n",
       "      <td>No</td>\n",
       "      <td>Bank transfer (automatic)</td>\n",
       "      <td>42.30</td>\n",
       "      <td>1840.75</td>\n",
       "      <td>No</td>\n",
       "    </tr>\n",
       "    <tr>\n",
       "      <th>4</th>\n",
       "      <td>9237-HQITU</td>\n",
       "      <td>Female</td>\n",
       "      <td>0</td>\n",
       "      <td>No</td>\n",
       "      <td>No</td>\n",
       "      <td>2</td>\n",
       "      <td>Yes</td>\n",
       "      <td>No</td>\n",
       "      <td>Fiber optic</td>\n",
       "      <td>No</td>\n",
       "      <td>No</td>\n",
       "      <td>No</td>\n",
       "      <td>No</td>\n",
       "      <td>No</td>\n",
       "      <td>No</td>\n",
       "      <td>Month-to-month</td>\n",
       "      <td>Yes</td>\n",
       "      <td>Electronic check</td>\n",
       "      <td>70.70</td>\n",
       "      <td>151.65</td>\n",
       "      <td>Yes</td>\n",
       "    </tr>\n",
       "  </tbody>\n",
       "</table>\n",
       "</div>"
      ],
      "text/plain": [
       "   customerID  gender  SeniorCitizen Partner Dependents  tenure PhoneService  \\\n",
       "0  7590-VHVEG  Female              0     Yes         No       1           No   \n",
       "1  5575-GNVDE    Male              0      No         No      34          Yes   \n",
       "2  3668-QPYBK    Male              0      No         No       2          Yes   \n",
       "3  7795-CFOCW    Male              0      No         No      45           No   \n",
       "4  9237-HQITU  Female              0      No         No       2          Yes   \n",
       "\n",
       "      MultipleLines InternetService OnlineSecurity OnlineBackup  \\\n",
       "0  No phone service             DSL             No          Yes   \n",
       "1                No             DSL            Yes           No   \n",
       "2                No             DSL            Yes          Yes   \n",
       "3  No phone service             DSL            Yes           No   \n",
       "4                No     Fiber optic             No           No   \n",
       "\n",
       "  DeviceProtection TechSupport StreamingTV StreamingMovies        Contract  \\\n",
       "0               No          No          No              No  Month-to-month   \n",
       "1              Yes          No          No              No        One year   \n",
       "2               No          No          No              No  Month-to-month   \n",
       "3              Yes         Yes          No              No        One year   \n",
       "4               No          No          No              No  Month-to-month   \n",
       "\n",
       "  PaperlessBilling              PaymentMethod  MonthlyCharges TotalCharges  \\\n",
       "0              Yes           Electronic check           29.85        29.85   \n",
       "1               No               Mailed check           56.95       1889.5   \n",
       "2              Yes               Mailed check           53.85       108.15   \n",
       "3               No  Bank transfer (automatic)           42.30      1840.75   \n",
       "4              Yes           Electronic check           70.70       151.65   \n",
       "\n",
       "  Churn  \n",
       "0    No  \n",
       "1    No  \n",
       "2   Yes  \n",
       "3    No  \n",
       "4   Yes  "
      ]
     },
     "execution_count": 4,
     "metadata": {},
     "output_type": "execute_result"
    }
   ],
   "source": [
    "df.head()"
   ]
  },
  {
   "cell_type": "code",
   "execution_count": 5,
   "metadata": {
    "execution": {
     "iopub.execute_input": "2022-04-04T14:49:19.282466Z",
     "iopub.status.busy": "2022-04-04T14:49:19.282161Z",
     "iopub.status.idle": "2022-04-04T14:49:19.316736Z",
     "shell.execute_reply": "2022-04-04T14:49:19.315707Z",
     "shell.execute_reply.started": "2022-04-04T14:49:19.282432Z"
    }
   },
   "outputs": [
    {
     "name": "stdout",
     "output_type": "stream",
     "text": [
      "<class 'pandas.core.frame.DataFrame'>\n",
      "RangeIndex: 7043 entries, 0 to 7042\n",
      "Data columns (total 21 columns):\n",
      " #   Column            Non-Null Count  Dtype  \n",
      "---  ------            --------------  -----  \n",
      " 0   customerID        7043 non-null   object \n",
      " 1   gender            7043 non-null   object \n",
      " 2   SeniorCitizen     7043 non-null   int64  \n",
      " 3   Partner           7043 non-null   object \n",
      " 4   Dependents        7043 non-null   object \n",
      " 5   tenure            7043 non-null   int64  \n",
      " 6   PhoneService      7043 non-null   object \n",
      " 7   MultipleLines     7043 non-null   object \n",
      " 8   InternetService   7043 non-null   object \n",
      " 9   OnlineSecurity    7043 non-null   object \n",
      " 10  OnlineBackup      7043 non-null   object \n",
      " 11  DeviceProtection  7043 non-null   object \n",
      " 12  TechSupport       7043 non-null   object \n",
      " 13  StreamingTV       7043 non-null   object \n",
      " 14  StreamingMovies   7043 non-null   object \n",
      " 15  Contract          7043 non-null   object \n",
      " 16  PaperlessBilling  7043 non-null   object \n",
      " 17  PaymentMethod     7043 non-null   object \n",
      " 18  MonthlyCharges    7043 non-null   float64\n",
      " 19  TotalCharges      7043 non-null   object \n",
      " 20  Churn             7043 non-null   object \n",
      "dtypes: float64(1), int64(2), object(18)\n",
      "memory usage: 1.1+ MB\n"
     ]
    }
   ],
   "source": [
    "df.info()"
   ]
  },
  {
   "cell_type": "markdown",
   "metadata": {},
   "source": [
    "### Checking for Null Values"
   ]
  },
  {
   "cell_type": "code",
   "execution_count": 6,
   "metadata": {
    "execution": {
     "iopub.execute_input": "2022-04-04T14:49:19.318350Z",
     "iopub.status.busy": "2022-04-04T14:49:19.318087Z",
     "iopub.status.idle": "2022-04-04T14:49:19.345295Z",
     "shell.execute_reply": "2022-04-04T14:49:19.344553Z",
     "shell.execute_reply.started": "2022-04-04T14:49:19.318317Z"
    }
   },
   "outputs": [
    {
     "data": {
      "text/plain": [
       "customerID          0\n",
       "gender              0\n",
       "SeniorCitizen       0\n",
       "Partner             0\n",
       "Dependents          0\n",
       "tenure              0\n",
       "PhoneService        0\n",
       "MultipleLines       0\n",
       "InternetService     0\n",
       "OnlineSecurity      0\n",
       "OnlineBackup        0\n",
       "DeviceProtection    0\n",
       "TechSupport         0\n",
       "StreamingTV         0\n",
       "StreamingMovies     0\n",
       "Contract            0\n",
       "PaperlessBilling    0\n",
       "PaymentMethod       0\n",
       "MonthlyCharges      0\n",
       "TotalCharges        0\n",
       "Churn               0\n",
       "dtype: int64"
      ]
     },
     "execution_count": 6,
     "metadata": {},
     "output_type": "execute_result"
    }
   ],
   "source": [
    "df.isnull().sum()"
   ]
  },
  {
   "cell_type": "code",
   "execution_count": 7,
   "metadata": {
    "execution": {
     "iopub.execute_input": "2022-04-04T14:49:19.369497Z",
     "iopub.status.busy": "2022-04-04T14:49:19.368897Z",
     "iopub.status.idle": "2022-04-04T14:49:19.397962Z",
     "shell.execute_reply": "2022-04-04T14:49:19.396993Z",
     "shell.execute_reply.started": "2022-04-04T14:49:19.369453Z"
    }
   },
   "outputs": [
    {
     "data": {
      "text/html": [
       "<div>\n",
       "<style scoped>\n",
       "    .dataframe tbody tr th:only-of-type {\n",
       "        vertical-align: middle;\n",
       "    }\n",
       "\n",
       "    .dataframe tbody tr th {\n",
       "        vertical-align: top;\n",
       "    }\n",
       "\n",
       "    .dataframe thead th {\n",
       "        text-align: right;\n",
       "    }\n",
       "</style>\n",
       "<table border=\"1\" class=\"dataframe\">\n",
       "  <thead>\n",
       "    <tr style=\"text-align: right;\">\n",
       "      <th></th>\n",
       "      <th>SeniorCitizen</th>\n",
       "      <th>tenure</th>\n",
       "      <th>MonthlyCharges</th>\n",
       "    </tr>\n",
       "  </thead>\n",
       "  <tbody>\n",
       "    <tr>\n",
       "      <th>count</th>\n",
       "      <td>7043.000000</td>\n",
       "      <td>7043.000000</td>\n",
       "      <td>7043.000000</td>\n",
       "    </tr>\n",
       "    <tr>\n",
       "      <th>mean</th>\n",
       "      <td>0.162147</td>\n",
       "      <td>32.371149</td>\n",
       "      <td>64.761692</td>\n",
       "    </tr>\n",
       "    <tr>\n",
       "      <th>std</th>\n",
       "      <td>0.368612</td>\n",
       "      <td>24.559481</td>\n",
       "      <td>30.090047</td>\n",
       "    </tr>\n",
       "    <tr>\n",
       "      <th>min</th>\n",
       "      <td>0.000000</td>\n",
       "      <td>0.000000</td>\n",
       "      <td>18.250000</td>\n",
       "    </tr>\n",
       "    <tr>\n",
       "      <th>25%</th>\n",
       "      <td>0.000000</td>\n",
       "      <td>9.000000</td>\n",
       "      <td>35.500000</td>\n",
       "    </tr>\n",
       "    <tr>\n",
       "      <th>50%</th>\n",
       "      <td>0.000000</td>\n",
       "      <td>29.000000</td>\n",
       "      <td>70.350000</td>\n",
       "    </tr>\n",
       "    <tr>\n",
       "      <th>75%</th>\n",
       "      <td>0.000000</td>\n",
       "      <td>55.000000</td>\n",
       "      <td>89.850000</td>\n",
       "    </tr>\n",
       "    <tr>\n",
       "      <th>max</th>\n",
       "      <td>1.000000</td>\n",
       "      <td>72.000000</td>\n",
       "      <td>118.750000</td>\n",
       "    </tr>\n",
       "  </tbody>\n",
       "</table>\n",
       "</div>"
      ],
      "text/plain": [
       "       SeniorCitizen       tenure  MonthlyCharges\n",
       "count    7043.000000  7043.000000     7043.000000\n",
       "mean        0.162147    32.371149       64.761692\n",
       "std         0.368612    24.559481       30.090047\n",
       "min         0.000000     0.000000       18.250000\n",
       "25%         0.000000     9.000000       35.500000\n",
       "50%         0.000000    29.000000       70.350000\n",
       "75%         0.000000    55.000000       89.850000\n",
       "max         1.000000    72.000000      118.750000"
      ]
     },
     "execution_count": 7,
     "metadata": {},
     "output_type": "execute_result"
    }
   ],
   "source": [
    "df.describe()"
   ]
  },
  {
   "cell_type": "code",
   "execution_count": 8,
   "metadata": {
    "execution": {
     "iopub.execute_input": "2022-04-04T14:49:19.401517Z",
     "iopub.status.busy": "2022-04-04T14:49:19.401223Z",
     "iopub.status.idle": "2022-04-04T14:49:19.408758Z",
     "shell.execute_reply": "2022-04-04T14:49:19.407668Z",
     "shell.execute_reply.started": "2022-04-04T14:49:19.401485Z"
    }
   },
   "outputs": [
    {
     "data": {
      "text/plain": [
       "(7043, 21)"
      ]
     },
     "execution_count": 8,
     "metadata": {},
     "output_type": "execute_result"
    }
   ],
   "source": [
    "df.shape"
   ]
  },
  {
   "cell_type": "code",
   "execution_count": 9,
   "metadata": {
    "execution": {
     "iopub.execute_input": "2022-04-04T14:49:19.411652Z",
     "iopub.status.busy": "2022-04-04T14:49:19.410850Z",
     "iopub.status.idle": "2022-04-04T14:49:20.398451Z",
     "shell.execute_reply": "2022-04-04T14:49:20.397038Z",
     "shell.execute_reply.started": "2022-04-04T14:49:19.411575Z"
    }
   },
   "outputs": [
    {
     "data": {
      "text/plain": [
       "<AxesSubplot:>"
      ]
     },
     "execution_count": 9,
     "metadata": {},
     "output_type": "execute_result"
    },
    {
     "data": {
      "image/png": "[encoded data removed]",
      "text/plain": [
       "<Figure size 576x396 with 2 Axes>"
      ]
     },
     "metadata": {},
     "output_type": "display_data"
    }
   ],
   "source": [
    "sns.heatmap(data = df.isnull())"
   ]
  },
  {
   "cell_type": "code",
   "execution_count": 10,
   "metadata": {
    "execution": {
     "iopub.execute_input": "2022-04-04T14:49:20.400267Z",
     "iopub.status.busy": "2022-04-04T14:49:20.399966Z",
     "iopub.status.idle": "2022-04-04T14:49:20.427105Z",
     "shell.execute_reply": "2022-04-04T14:49:20.425792Z",
     "shell.execute_reply.started": "2022-04-04T14:49:20.400236Z"
    }
   },
   "outputs": [],
   "source": [
    "df.dropna(inplace = True)"
   ]
  },
  {
   "cell_type": "code",
   "execution_count": 11,
   "metadata": {
    "execution": {
     "iopub.execute_input": "2022-04-04T14:49:20.429038Z",
     "iopub.status.busy": "2022-04-04T14:49:20.428741Z",
     "iopub.status.idle": "2022-04-04T14:49:20.437069Z",
     "shell.execute_reply": "2022-04-04T14:49:20.436085Z",
     "shell.execute_reply.started": "2022-04-04T14:49:20.429002Z"
    }
   },
   "outputs": [
    {
     "data": {
      "text/plain": [
       "(7043, 21)"
      ]
     },
     "execution_count": 11,
     "metadata": {},
     "output_type": "execute_result"
    }
   ],
   "source": [
    "df.shape"
   ]
  },
  {
   "cell_type": "code",
   "execution_count": 12,
   "metadata": {
    "execution": {
     "iopub.execute_input": "2022-04-04T14:49:20.439851Z",
     "iopub.status.busy": "2022-04-04T14:49:20.438852Z",
     "iopub.status.idle": "2022-04-04T14:49:20.471232Z",
     "shell.execute_reply": "2022-04-04T14:49:20.470535Z",
     "shell.execute_reply.started": "2022-04-04T14:49:20.439792Z"
    }
   },
   "outputs": [
    {
     "data": {
      "text/plain": [
       "0"
      ]
     },
     "execution_count": 12,
     "metadata": {},
     "output_type": "execute_result"
    }
   ],
   "source": [
    "df.duplicated().sum()"
   ]
  },
  {
   "cell_type": "markdown",
   "metadata": {},
   "source": [
    "#### There is relatively no use of customer id."
   ]
  },
  {
   "cell_type": "code",
   "execution_count": 13,
   "metadata": {
    "execution": {
     "iopub.execute_input": "2022-04-04T14:49:20.472890Z",
     "iopub.status.busy": "2022-04-04T14:49:20.472290Z",
     "iopub.status.idle": "2022-04-04T14:49:20.480577Z",
     "shell.execute_reply": "2022-04-04T14:49:20.479605Z",
     "shell.execute_reply.started": "2022-04-04T14:49:20.472840Z"
    }
   },
   "outputs": [],
   "source": [
    "df.drop(columns='customerID', inplace=True)"
   ]
  },
  {
   "cell_type": "code",
   "execution_count": 14,
   "metadata": {
    "execution": {
     "iopub.execute_input": "2022-04-04T14:49:20.482724Z",
     "iopub.status.busy": "2022-04-04T14:49:20.481971Z",
     "iopub.status.idle": "2022-04-04T14:49:20.511922Z",
     "shell.execute_reply": "2022-04-04T14:49:20.510932Z",
     "shell.execute_reply.started": "2022-04-04T14:49:20.482611Z"
    }
   },
   "outputs": [
    {
     "data": {
      "text/html": [
       "<div>\n",
       "<style scoped>\n",
       "    .dataframe tbody tr th:only-of-type {\n",
       "        vertical-align: middle;\n",
       "    }\n",
       "\n",
       "    .dataframe tbody tr th {\n",
       "        vertical-align: top;\n",
       "    }\n",
       "\n",
       "    .dataframe thead th {\n",
       "        text-align: right;\n",
       "    }\n",
       "</style>\n",
       "<table border=\"1\" class=\"dataframe\">\n",
       "  <thead>\n",
       "    <tr style=\"text-align: right;\">\n",
       "      <th></th>\n",
       "      <th>SeniorCitizen</th>\n",
       "      <th>tenure</th>\n",
       "      <th>MonthlyCharges</th>\n",
       "    </tr>\n",
       "  </thead>\n",
       "  <tbody>\n",
       "    <tr>\n",
       "      <th>count</th>\n",
       "      <td>7043.000000</td>\n",
       "      <td>7043.000000</td>\n",
       "      <td>7043.000000</td>\n",
       "    </tr>\n",
       "    <tr>\n",
       "      <th>mean</th>\n",
       "      <td>0.162147</td>\n",
       "      <td>32.371149</td>\n",
       "      <td>64.761692</td>\n",
       "    </tr>\n",
       "    <tr>\n",
       "      <th>std</th>\n",
       "      <td>0.368612</td>\n",
       "      <td>24.559481</td>\n",
       "      <td>30.090047</td>\n",
       "    </tr>\n",
       "    <tr>\n",
       "      <th>min</th>\n",
       "      <td>0.000000</td>\n",
       "      <td>0.000000</td>\n",
       "      <td>18.250000</td>\n",
       "    </tr>\n",
       "    <tr>\n",
       "      <th>25%</th>\n",
       "      <td>0.000000</td>\n",
       "      <td>9.000000</td>\n",
       "      <td>35.500000</td>\n",
       "    </tr>\n",
       "    <tr>\n",
       "      <th>50%</th>\n",
       "      <td>0.000000</td>\n",
       "      <td>29.000000</td>\n",
       "      <td>70.350000</td>\n",
       "    </tr>\n",
       "    <tr>\n",
       "      <th>75%</th>\n",
       "      <td>0.000000</td>\n",
       "      <td>55.000000</td>\n",
       "      <td>89.850000</td>\n",
       "    </tr>\n",
       "    <tr>\n",
       "      <th>max</th>\n",
       "      <td>1.000000</td>\n",
       "      <td>72.000000</td>\n",
       "      <td>118.750000</td>\n",
       "    </tr>\n",
       "  </tbody>\n",
       "</table>\n",
       "</div>"
      ],
      "text/plain": [
       "       SeniorCitizen       tenure  MonthlyCharges\n",
       "count    7043.000000  7043.000000     7043.000000\n",
       "mean        0.162147    32.371149       64.761692\n",
       "std         0.368612    24.559481       30.090047\n",
       "min         0.000000     0.000000       18.250000\n",
       "25%         0.000000     9.000000       35.500000\n",
       "50%         0.000000    29.000000       70.350000\n",
       "75%         0.000000    55.000000       89.850000\n",
       "max         1.000000    72.000000      118.750000"
      ]
     },
     "execution_count": 14,
     "metadata": {},
     "output_type": "execute_result"
    }
   ],
   "source": [
    "df.describe()"
   ]
  },
  {
   "cell_type": "markdown",
   "metadata": {},
   "source": [
    "#### DATA Cleaning"
   ]
  },
  {
   "cell_type": "code",
   "execution_count": 15,
   "metadata": {
    "execution": {
     "iopub.execute_input": "2022-04-04T14:49:20.513487Z",
     "iopub.status.busy": "2022-04-04T14:49:20.513239Z",
     "iopub.status.idle": "2022-04-04T14:49:20.529245Z",
     "shell.execute_reply": "2022-04-04T14:49:20.528008Z",
     "shell.execute_reply.started": "2022-04-04T14:49:20.513457Z"
    }
   },
   "outputs": [],
   "source": [
    "df['TotalCharges'] = pd.to_numeric(df['TotalCharges'],errors='coerce')\n",
    "df['SeniorCitizen'] = df['SeniorCitizen'].map({1:'Yes',0:'No'})"
   ]
  },
  {
   "cell_type": "code",
   "execution_count": 16,
   "metadata": {
    "execution": {
     "iopub.execute_input": "2022-04-04T14:49:20.531786Z",
     "iopub.status.busy": "2022-04-04T14:49:20.531228Z",
     "iopub.status.idle": "2022-04-04T14:49:20.570883Z",
     "shell.execute_reply": "2022-04-04T14:49:20.569764Z",
     "shell.execute_reply.started": "2022-04-04T14:49:20.531737Z"
    }
   },
   "outputs": [
    {
     "name": "stdout",
     "output_type": "stream",
     "text": [
      "<class 'pandas.core.frame.DataFrame'>\n",
      "Int64Index: 7043 entries, 0 to 7042\n",
      "Data columns (total 20 columns):\n",
      " #   Column            Non-Null Count  Dtype  \n",
      "---  ------            --------------  -----  \n",
      " 0   gender            7043 non-null   object \n",
      " 1   SeniorCitizen     7043 non-null   object \n",
      " 2   Partner           7043 non-null   object \n",
      " 3   Dependents        7043 non-null   object \n",
      " 4   tenure            7043 non-null   int64  \n",
      " 5   PhoneService      7043 non-null   object \n",
      " 6   MultipleLines     7043 non-null   object \n",
      " 7   InternetService   7043 non-null   object \n",
      " 8   OnlineSecurity    7043 non-null   object \n",
      " 9   OnlineBackup      7043 non-null   object \n",
      " 10  DeviceProtection  7043 non-null   object \n",
      " 11  TechSupport       7043 non-null   object \n",
      " 12  StreamingTV       7043 non-null   object \n",
      " 13  StreamingMovies   7043 non-null   object \n",
      " 14  Contract          7043 non-null   object \n",
      " 15  PaperlessBilling  7043 non-null   object \n",
      " 16  PaymentMethod     7043 non-null   object \n",
      " 17  MonthlyCharges    7043 non-null   float64\n",
      " 18  TotalCharges      7032 non-null   float64\n",
      " 19  Churn             7043 non-null   object \n",
      "dtypes: float64(2), int64(1), object(17)\n",
      "memory usage: 1.1+ MB\n"
     ]
    }
   ],
   "source": [
    "df.info()"
   ]
  },
  {
   "cell_type": "code",
   "execution_count": 17,
   "metadata": {
    "execution": {
     "iopub.execute_input": "2022-04-04T14:49:20.573288Z",
     "iopub.status.busy": "2022-04-04T14:49:20.572259Z",
     "iopub.status.idle": "2022-04-04T14:49:21.458662Z",
     "shell.execute_reply": "2022-04-04T14:49:21.457219Z",
     "shell.execute_reply.started": "2022-04-04T14:49:20.573213Z"
    }
   },
   "outputs": [
    {
     "data": {
      "text/plain": [
       "<AxesSubplot:>"
      ]
     },
     "execution_count": 17,
     "metadata": {},
     "output_type": "execute_result"
    },
    {
     "data": {
      "image/png": "[encoded data removed]",
      "text/plain": [
       "<Figure size 576x396 with 2 Axes>"
      ]
     },
     "metadata": {},
     "output_type": "display_data"
    }
   ],
   "source": [
    "sns.heatmap(df.isnull())"
   ]
  },
  {
   "cell_type": "code",
   "execution_count": 18,
   "metadata": {
    "execution": {
     "iopub.execute_input": "2022-04-04T14:49:21.461430Z",
     "iopub.status.busy": "2022-04-04T14:49:21.460911Z",
     "iopub.status.idle": "2022-04-04T14:49:21.486095Z",
     "shell.execute_reply": "2022-04-04T14:49:21.485037Z",
     "shell.execute_reply.started": "2022-04-04T14:49:21.461388Z"
    }
   },
   "outputs": [
    {
     "data": {
      "text/plain": [
       "gender               0\n",
       "SeniorCitizen        0\n",
       "Partner              0\n",
       "Dependents           0\n",
       "tenure               0\n",
       "PhoneService         0\n",
       "MultipleLines        0\n",
       "InternetService      0\n",
       "OnlineSecurity       0\n",
       "OnlineBackup         0\n",
       "DeviceProtection     0\n",
       "TechSupport          0\n",
       "StreamingTV          0\n",
       "StreamingMovies      0\n",
       "Contract             0\n",
       "PaperlessBilling     0\n",
       "PaymentMethod        0\n",
       "MonthlyCharges       0\n",
       "TotalCharges        11\n",
       "Churn                0\n",
       "dtype: int64"
      ]
     },
     "execution_count": 18,
     "metadata": {},
     "output_type": "execute_result"
    }
   ],
   "source": [
    "df.isnull().sum()"
   ]
  },
  {
   "cell_type": "markdown",
   "metadata": {},
   "source": [
    "#### Filling the null values with mean of all the values"
   ]
  },
  {
   "cell_type": "code",
   "execution_count": 19,
   "metadata": {
    "execution": {
     "iopub.execute_input": "2022-04-04T14:49:21.488379Z",
     "iopub.status.busy": "2022-04-04T14:49:21.488005Z",
     "iopub.status.idle": "2022-04-04T14:49:21.494870Z",
     "shell.execute_reply": "2022-04-04T14:49:21.494069Z",
     "shell.execute_reply.started": "2022-04-04T14:49:21.488340Z"
    }
   },
   "outputs": [],
   "source": [
    "df['TotalCharges'].fillna(df['TotalCharges'].mean(), inplace=True)"
   ]
  },
  {
   "cell_type": "code",
   "execution_count": 20,
   "metadata": {
    "execution": {
     "iopub.execute_input": "2022-04-04T14:49:21.497012Z",
     "iopub.status.busy": "2022-04-04T14:49:21.496556Z",
     "iopub.status.idle": "2022-04-04T14:49:21.509264Z",
     "shell.execute_reply": "2022-04-04T14:49:21.508143Z",
     "shell.execute_reply.started": "2022-04-04T14:49:21.496975Z"
    }
   },
   "outputs": [
    {
     "data": {
      "text/plain": [
       "(7043, 20)"
      ]
     },
     "execution_count": 20,
     "metadata": {},
     "output_type": "execute_result"
    }
   ],
   "source": [
    "df.shape"
   ]
  },
  {
   "cell_type": "code",
   "execution_count": 21,
   "metadata": {
    "execution": {
     "iopub.execute_input": "2022-04-04T14:49:21.511075Z",
     "iopub.status.busy": "2022-04-04T14:49:21.510825Z",
     "iopub.status.idle": "2022-04-04T14:49:21.527758Z",
     "shell.execute_reply": "2022-04-04T14:49:21.526552Z",
     "shell.execute_reply.started": "2022-04-04T14:49:21.511044Z"
    }
   },
   "outputs": [
    {
     "data": {
      "text/plain": [
       "Male      3555\n",
       "Female    3488\n",
       "Name: gender, dtype: int64"
      ]
     },
     "execution_count": 21,
     "metadata": {},
     "output_type": "execute_result"
    }
   ],
   "source": [
    "gender = df['gender'].value_counts()\n",
    "gender"
   ]
  },
  {
   "cell_type": "code",
   "execution_count": 22,
   "metadata": {
    "execution": {
     "iopub.execute_input": "2022-04-04T14:49:21.529985Z",
     "iopub.status.busy": "2022-04-04T14:49:21.529246Z",
     "iopub.status.idle": "2022-04-04T14:49:21.557002Z",
     "shell.execute_reply": "2022-04-04T14:49:21.555730Z",
     "shell.execute_reply.started": "2022-04-04T14:49:21.529861Z"
    }
   },
   "outputs": [
    {
     "data": {
      "text/html": [
       "<div>\n",
       "<style scoped>\n",
       "    .dataframe tbody tr th:only-of-type {\n",
       "        vertical-align: middle;\n",
       "    }\n",
       "\n",
       "    .dataframe tbody tr th {\n",
       "        vertical-align: top;\n",
       "    }\n",
       "\n",
       "    .dataframe thead th {\n",
       "        text-align: right;\n",
       "    }\n",
       "</style>\n",
       "<table border=\"1\" class=\"dataframe\">\n",
       "  <thead>\n",
       "    <tr style=\"text-align: right;\">\n",
       "      <th></th>\n",
       "      <th>gender</th>\n",
       "      <th>SeniorCitizen</th>\n",
       "      <th>Partner</th>\n",
       "      <th>Dependents</th>\n",
       "      <th>tenure</th>\n",
       "      <th>PhoneService</th>\n",
       "      <th>MultipleLines</th>\n",
       "      <th>InternetService</th>\n",
       "      <th>OnlineSecurity</th>\n",
       "      <th>OnlineBackup</th>\n",
       "      <th>DeviceProtection</th>\n",
       "      <th>TechSupport</th>\n",
       "      <th>StreamingTV</th>\n",
       "      <th>StreamingMovies</th>\n",
       "      <th>Contract</th>\n",
       "      <th>PaperlessBilling</th>\n",
       "      <th>PaymentMethod</th>\n",
       "      <th>MonthlyCharges</th>\n",
       "      <th>TotalCharges</th>\n",
       "      <th>Churn</th>\n",
       "    </tr>\n",
       "  </thead>\n",
       "  <tbody>\n",
       "    <tr>\n",
       "      <th>0</th>\n",
       "      <td>Female</td>\n",
       "      <td>No</td>\n",
       "      <td>Yes</td>\n",
       "      <td>No</td>\n",
       "      <td>1</td>\n",
       "      <td>No</td>\n",
       "      <td>No phone service</td>\n",
       "      <td>DSL</td>\n",
       "      <td>No</td>\n",
       "      <td>Yes</td>\n",
       "      <td>No</td>\n",
       "      <td>No</td>\n",
       "      <td>No</td>\n",
       "      <td>No</td>\n",
       "      <td>Month-to-month</td>\n",
       "      <td>Yes</td>\n",
       "      <td>Electronic check</td>\n",
       "      <td>29.85</td>\n",
       "      <td>29.85</td>\n",
       "      <td>No</td>\n",
       "    </tr>\n",
       "    <tr>\n",
       "      <th>1</th>\n",
       "      <td>Male</td>\n",
       "      <td>No</td>\n",
       "      <td>No</td>\n",
       "      <td>No</td>\n",
       "      <td>34</td>\n",
       "      <td>Yes</td>\n",
       "      <td>No</td>\n",
       "      <td>DSL</td>\n",
       "      <td>Yes</td>\n",
       "      <td>No</td>\n",
       "      <td>Yes</td>\n",
       "      <td>No</td>\n",
       "      <td>No</td>\n",
       "      <td>No</td>\n",
       "      <td>One year</td>\n",
       "      <td>No</td>\n",
       "      <td>Mailed check</td>\n",
       "      <td>56.95</td>\n",
       "      <td>1889.50</td>\n",
       "      <td>No</td>\n",
       "    </tr>\n",
       "    <tr>\n",
       "      <th>2</th>\n",
       "      <td>Male</td>\n",
       "      <td>No</td>\n",
       "      <td>No</td>\n",
       "      <td>No</td>\n",
       "      <td>2</td>\n",
       "      <td>Yes</td>\n",
       "      <td>No</td>\n",
       "      <td>DSL</td>\n",
       "      <td>Yes</td>\n",
       "      <td>Yes</td>\n",
       "      <td>No</td>\n",
       "      <td>No</td>\n",
       "      <td>No</td>\n",
       "      <td>No</td>\n",
       "      <td>Month-to-month</td>\n",
       "      <td>Yes</td>\n",
       "      <td>Mailed check</td>\n",
       "      <td>53.85</td>\n",
       "      <td>108.15</td>\n",
       "      <td>Yes</td>\n",
       "    </tr>\n",
       "    <tr>\n",
       "      <th>3</th>\n",
       "      <td>Male</td>\n",
       "      <td>No</td>\n",
       "      <td>No</td>\n",
       "      <td>No</td>\n",
       "      <td>45</td>\n",
       "      <td>No</td>\n",
       "      <td>No phone service</td>\n",
       "      <td>DSL</td>\n",
       "      <td>Yes</td>\n",
       "      <td>No</td>\n",
       "      <td>Yes</td>\n",
       "      <td>Yes</td>\n",
       "      <td>No</td>\n",
       "      <td>No</td>\n",
       "      <td>One year</td>\n",
       "      <td>No</td>\n",
       "      <td>Bank transfer (automatic)</td>\n",
       "      <td>42.30</td>\n",
       "      <td>1840.75</td>\n",
       "      <td>No</td>\n",
       "    </tr>\n",
       "    <tr>\n",
       "      <th>4</th>\n",
       "      <td>Female</td>\n",
       "      <td>No</td>\n",
       "      <td>No</td>\n",
       "      <td>No</td>\n",
       "      <td>2</td>\n",
       "      <td>Yes</td>\n",
       "      <td>No</td>\n",
       "      <td>Fiber optic</td>\n",
       "      <td>No</td>\n",
       "      <td>No</td>\n",
       "      <td>No</td>\n",
       "      <td>No</td>\n",
       "      <td>No</td>\n",
       "      <td>No</td>\n",
       "      <td>Month-to-month</td>\n",
       "      <td>Yes</td>\n",
       "      <td>Electronic check</td>\n",
       "      <td>70.70</td>\n",
       "      <td>151.65</td>\n",
       "      <td>Yes</td>\n",
       "    </tr>\n",
       "  </tbody>\n",
       "</table>\n",
       "</div>"
      ],
      "text/plain": [
       "   gender SeniorCitizen Partner Dependents  tenure PhoneService  \\\n",
       "0  Female            No     Yes         No       1           No   \n",
       "1    Male            No      No         No      34          Yes   \n",
       "2    Male            No      No         No       2          Yes   \n",
       "3    Male            No      No         No      45           No   \n",
       "4  Female            No      No         No       2          Yes   \n",
       "\n",
       "      MultipleLines InternetService OnlineSecurity OnlineBackup  \\\n",
       "0  No phone service             DSL             No          Yes   \n",
       "1                No             DSL            Yes           No   \n",
       "2                No             DSL            Yes          Yes   \n",
       "3  No phone service             DSL            Yes           No   \n",
       "4                No     Fiber optic             No           No   \n",
       "\n",
       "  DeviceProtection TechSupport StreamingTV StreamingMovies        Contract  \\\n",
       "0               No          No          No              No  Month-to-month   \n",
       "1              Yes          No          No              No        One year   \n",
       "2               No          No          No              No  Month-to-month   \n",
       "3              Yes         Yes          No              No        One year   \n",
       "4               No          No          No              No  Month-to-month   \n",
       "\n",
       "  PaperlessBilling              PaymentMethod  MonthlyCharges  TotalCharges  \\\n",
       "0              Yes           Electronic check           29.85         29.85   \n",
       "1               No               Mailed check           56.95       1889.50   \n",
       "2              Yes               Mailed check           53.85        108.15   \n",
       "3               No  Bank transfer (automatic)           42.30       1840.75   \n",
       "4              Yes           Electronic check           70.70        151.65   \n",
       "\n",
       "  Churn  \n",
       "0    No  \n",
       "1    No  \n",
       "2   Yes  \n",
       "3    No  \n",
       "4   Yes  "
      ]
     },
     "execution_count": 22,
     "metadata": {},
     "output_type": "execute_result"
    }
   ],
   "source": [
    "df.head(5)"
   ]
  },
  {
   "cell_type": "code",
   "execution_count": 23,
   "metadata": {
    "execution": {
     "iopub.execute_input": "2022-04-04T14:49:21.558990Z",
     "iopub.status.busy": "2022-04-04T14:49:21.558690Z",
     "iopub.status.idle": "2022-04-04T14:49:21.603152Z",
     "shell.execute_reply": "2022-04-04T14:49:21.601820Z",
     "shell.execute_reply.started": "2022-04-04T14:49:21.558957Z"
    }
   },
   "outputs": [
    {
     "name": "stdout",
     "output_type": "stream",
     "text": [
      "No                  3390\n",
      "Yes                 2971\n",
      "No phone service     682\n",
      "Name: MultipleLines, dtype: int64\n",
      "\n",
      "\n",
      "Fiber optic    3096\n",
      "DSL            2421\n",
      "No             1526\n",
      "Name: InternetService, dtype: int64\n",
      "\n",
      "\n",
      "No                     3498\n",
      "Yes                    2019\n",
      "No internet service    1526\n",
      "Name: OnlineSecurity, dtype: int64\n",
      "\n",
      "\n",
      "No                     3088\n",
      "Yes                    2429\n",
      "No internet service    1526\n",
      "Name: OnlineBackup, dtype: int64\n",
      "\n",
      "\n",
      "No                     3095\n",
      "Yes                    2422\n",
      "No internet service    1526\n",
      "Name: DeviceProtection, dtype: int64\n",
      "\n",
      "\n",
      "No                     3473\n",
      "Yes                    2044\n",
      "No internet service    1526\n",
      "Name: TechSupport, dtype: int64\n",
      "\n",
      "\n",
      "No                     2810\n",
      "Yes                    2707\n",
      "No internet service    1526\n",
      "Name: StreamingTV, dtype: int64\n",
      "\n",
      "\n",
      "No                     2785\n",
      "Yes                    2732\n",
      "No internet service    1526\n",
      "Name: StreamingMovies, dtype: int64\n",
      "\n",
      "\n",
      "Month-to-month    3875\n",
      "Two year          1695\n",
      "One year          1473\n",
      "Name: Contract, dtype: int64\n",
      "\n",
      "\n",
      "Yes    4171\n",
      "No     2872\n",
      "Name: PaperlessBilling, dtype: int64\n",
      "\n",
      "\n",
      "Electronic check             2365\n",
      "Mailed check                 1612\n",
      "Bank transfer (automatic)    1544\n",
      "Credit card (automatic)      1522\n",
      "Name: PaymentMethod, dtype: int64\n",
      "\n",
      "\n",
      "No     5174\n",
      "Yes    1869\n",
      "Name: Churn, dtype: int64\n"
     ]
    }
   ],
   "source": [
    "print(df['MultipleLines'].value_counts())\n",
    "print('\\n')\n",
    "print(df['InternetService'].value_counts())\n",
    "print('\\n')\n",
    "print(df['OnlineSecurity'].value_counts())\n",
    "print('\\n')\n",
    "print(df['OnlineBackup'].value_counts())\n",
    "print('\\n')\n",
    "print(df['DeviceProtection'].value_counts())\n",
    "print('\\n')\n",
    "print(df['TechSupport'].value_counts())\n",
    "print('\\n')\n",
    "print(df['StreamingTV'].value_counts())\n",
    "print('\\n')\n",
    "print(df['StreamingMovies'].value_counts())\n",
    "print('\\n')\n",
    "print(df['Contract'].value_counts())\n",
    "print('\\n')\n",
    "print(df['PaperlessBilling'].value_counts())\n",
    "print('\\n')\n",
    "print(df['PaymentMethod'].value_counts())\n",
    "print('\\n')\n",
    "print(df['Churn'].value_counts())\n"
   ]
  },
  {
   "cell_type": "code",
   "execution_count": 24,
   "metadata": {
    "execution": {
     "iopub.execute_input": "2022-04-04T14:49:21.605041Z",
     "iopub.status.busy": "2022-04-04T14:49:21.604780Z",
     "iopub.status.idle": "2022-04-04T14:49:21.643860Z",
     "shell.execute_reply": "2022-04-04T14:49:21.642421Z",
     "shell.execute_reply.started": "2022-04-04T14:49:21.605012Z"
    }
   },
   "outputs": [],
   "source": [
    "SeniorCitizen = pd.get_dummies(df['SeniorCitizen'],drop_first=True)\n",
    "SeniorCitizen.rename({'Yes':'SeniorCitizen'},axis=1, inplace = True)\n",
    "\n",
    "gender = pd.get_dummies(df['gender'],drop_first=True)\n",
    "gender.rename({'Male':'Male 1 female 0'},axis=1, inplace = True)\n",
    "\n",
    "Partner = pd.get_dummies(df['Partner'],drop_first=True)\n",
    "Partner.rename({'Yes':'Partner'},axis=1, inplace = True)\n",
    "\n",
    "Dependents = pd.get_dummies(df['Dependents'],drop_first=True)\n",
    "Dependents.rename({'Yes':'Dependents'},axis=1, inplace = True)\n",
    "\n",
    "PhoneService = pd.get_dummies(df['PhoneService'],drop_first=True)\n",
    "PhoneService.rename({'Yes':'PhoneService'},axis=1, inplace = True)\n",
    "\n",
    "PaperlessBilling = pd.get_dummies(df['PaperlessBilling'],drop_first=True)\n",
    "PaperlessBilling.rename({'Yes':'PaperlessBilling'},axis=1, inplace = True)\n",
    "\n",
    "InternetService = pd.get_dummies(df['InternetService'])\n",
    "InternetService.rename({'Yes':'InternetService'},axis=1, inplace = True)\n",
    "\n",
    "Contract = pd.get_dummies(df['Contract'])\n",
    "Contract.rename({'Yes':'Contract'},axis=1, inplace = True)\n",
    "\n",
    "PaymentMethod = pd.get_dummies(df['PaymentMethod'])\n",
    "PaymentMethod.rename({'Yes':'PaymentMethod'},axis=1, inplace = True)\n",
    "\n",
    "Churn = pd.get_dummies(df['Churn'], drop_first= True)\n",
    "Churn.rename({'Yes':'Churn'},axis=1, inplace = True)\n"
   ]
  },
  {
   "cell_type": "code",
   "execution_count": 25,
   "metadata": {
    "execution": {
     "iopub.execute_input": "2022-04-04T14:49:21.646412Z",
     "iopub.status.busy": "2022-04-04T14:49:21.645904Z",
     "iopub.status.idle": "2022-04-04T14:49:21.685838Z",
     "shell.execute_reply": "2022-04-04T14:49:21.684942Z",
     "shell.execute_reply.started": "2022-04-04T14:49:21.646354Z"
    }
   },
   "outputs": [],
   "source": [
    "MultipleLines = pd.get_dummies(df['MultipleLines'],drop_first=True)\n",
    "MultipleLines.rename({'Yes':'MultipleLines'},axis=1, inplace = True)\n",
    "MultipleLines.drop('No phone service',axis=1, inplace=True)\n",
    "\n",
    "OnlineSecurity = pd.get_dummies(df['OnlineSecurity'],drop_first=True)\n",
    "OnlineSecurity.rename({'Yes':'OnlineSecurity'},axis=1, inplace = True)\n",
    "OnlineSecurity.drop('No internet service',axis=1, inplace=True)\n",
    "\n",
    "OnlineBackup = pd.get_dummies(df['OnlineBackup'],drop_first=True)\n",
    "OnlineBackup.rename({'Yes':'OnlineBackup'},axis=1, inplace = True)\n",
    "OnlineBackup.drop('No internet service',axis=1, inplace=True)\n",
    "\n",
    "DeviceProtection = pd.get_dummies(df['DeviceProtection'],drop_first=True)\n",
    "DeviceProtection.rename({'Yes':'DeviceProtection'},axis=1, inplace = True)\n",
    "DeviceProtection.drop('No internet service',axis=1, inplace=True)\n",
    "\n",
    "StreamingTV = pd.get_dummies(df['StreamingTV'],drop_first=True)\n",
    "StreamingTV.rename({'Yes':'StreamingTV'},axis=1, inplace = True)\n",
    "StreamingTV.drop('No internet service',axis=1, inplace=True)\n",
    "\n",
    "\n",
    "StreamingMovies = pd.get_dummies(df['StreamingMovies'],drop_first=True)\n",
    "StreamingMovies.rename({'Yes':'StreamingMovies'},axis=1, inplace = True)\n",
    "StreamingMovies.drop('No internet service',axis=1, inplace=True)\n",
    "\n",
    "TechSupport = pd.get_dummies(df['TechSupport'],drop_first=True)\n",
    "TechSupport.rename({'Yes':'TechSupport'},axis=1, inplace = True)\n",
    "TechSupport.drop('No internet service',axis=1, inplace=True)\n",
    "\n"
   ]
  },
  {
   "cell_type": "code",
   "execution_count": 26,
   "metadata": {
    "execution": {
     "iopub.execute_input": "2022-04-04T14:49:21.688212Z",
     "iopub.status.busy": "2022-04-04T14:49:21.687714Z",
     "iopub.status.idle": "2022-04-04T14:49:21.699542Z",
     "shell.execute_reply": "2022-04-04T14:49:21.698729Z",
     "shell.execute_reply.started": "2022-04-04T14:49:21.688162Z"
    }
   },
   "outputs": [],
   "source": [
    "fresh_df = df.drop(['gender','SeniorCitizen','Partner','Dependents','PhoneService','MultipleLines','InternetService','OnlineSecurity',\n",
    "        'OnlineBackup','DeviceProtection','TechSupport','StreamingTV','StreamingMovies','Contract','PaperlessBilling',\n",
    "        'PaymentMethod','Churn'], axis = 1)\n"
   ]
  },
  {
   "cell_type": "code",
   "execution_count": 27,
   "metadata": {
    "execution": {
     "iopub.execute_input": "2022-04-04T14:49:21.701521Z",
     "iopub.status.busy": "2022-04-04T14:49:21.700764Z",
     "iopub.status.idle": "2022-04-04T14:49:21.739793Z",
     "shell.execute_reply": "2022-04-04T14:49:21.738845Z",
     "shell.execute_reply.started": "2022-04-04T14:49:21.701462Z"
    }
   },
   "outputs": [
    {
     "data": {
      "text/html": [
       "<div>\n",
       "<style scoped>\n",
       "    .dataframe tbody tr th:only-of-type {\n",
       "        vertical-align: middle;\n",
       "    }\n",
       "\n",
       "    .dataframe tbody tr th {\n",
       "        vertical-align: top;\n",
       "    }\n",
       "\n",
       "    .dataframe thead th {\n",
       "        text-align: right;\n",
       "    }\n",
       "</style>\n",
       "<table border=\"1\" class=\"dataframe\">\n",
       "  <thead>\n",
       "    <tr style=\"text-align: right;\">\n",
       "      <th></th>\n",
       "      <th>tenure</th>\n",
       "      <th>MonthlyCharges</th>\n",
       "      <th>TotalCharges</th>\n",
       "      <th>Male 1 female 0</th>\n",
       "      <th>SeniorCitizen</th>\n",
       "      <th>Partner</th>\n",
       "      <th>Dependents</th>\n",
       "      <th>PhoneService</th>\n",
       "      <th>MultipleLines</th>\n",
       "      <th>DSL</th>\n",
       "      <th>Fiber optic</th>\n",
       "      <th>No</th>\n",
       "      <th>OnlineSecurity</th>\n",
       "      <th>OnlineBackup</th>\n",
       "      <th>DeviceProtection</th>\n",
       "      <th>TechSupport</th>\n",
       "      <th>StreamingTV</th>\n",
       "      <th>StreamingMovies</th>\n",
       "      <th>Month-to-month</th>\n",
       "      <th>One year</th>\n",
       "      <th>Two year</th>\n",
       "      <th>PaperlessBilling</th>\n",
       "      <th>Bank transfer (automatic)</th>\n",
       "      <th>Credit card (automatic)</th>\n",
       "      <th>Electronic check</th>\n",
       "      <th>Mailed check</th>\n",
       "      <th>Churn</th>\n",
       "    </tr>\n",
       "  </thead>\n",
       "  <tbody>\n",
       "    <tr>\n",
       "      <th>0</th>\n",
       "      <td>1</td>\n",
       "      <td>29.85</td>\n",
       "      <td>29.85</td>\n",
       "      <td>0</td>\n",
       "      <td>0</td>\n",
       "      <td>1</td>\n",
       "      <td>0</td>\n",
       "      <td>0</td>\n",
       "      <td>0</td>\n",
       "      <td>1</td>\n",
       "      <td>0</td>\n",
       "      <td>0</td>\n",
       "      <td>0</td>\n",
       "      <td>1</td>\n",
       "      <td>0</td>\n",
       "      <td>0</td>\n",
       "      <td>0</td>\n",
       "      <td>0</td>\n",
       "      <td>1</td>\n",
       "      <td>0</td>\n",
       "      <td>0</td>\n",
       "      <td>1</td>\n",
       "      <td>0</td>\n",
       "      <td>0</td>\n",
       "      <td>1</td>\n",
       "      <td>0</td>\n",
       "      <td>0</td>\n",
       "    </tr>\n",
       "    <tr>\n",
       "      <th>1</th>\n",
       "      <td>34</td>\n",
       "      <td>56.95</td>\n",
       "      <td>1889.50</td>\n",
       "      <td>1</td>\n",
       "      <td>0</td>\n",
       "      <td>0</td>\n",
       "      <td>0</td>\n",
       "      <td>1</td>\n",
       "      <td>0</td>\n",
       "      <td>1</td>\n",
       "      <td>0</td>\n",
       "      <td>0</td>\n",
       "      <td>1</td>\n",
       "      <td>0</td>\n",
       "      <td>1</td>\n",
       "      <td>0</td>\n",
       "      <td>0</td>\n",
       "      <td>0</td>\n",
       "      <td>0</td>\n",
       "      <td>1</td>\n",
       "      <td>0</td>\n",
       "      <td>0</td>\n",
       "      <td>0</td>\n",
       "      <td>0</td>\n",
       "      <td>0</td>\n",
       "      <td>1</td>\n",
       "      <td>0</td>\n",
       "    </tr>\n",
       "    <tr>\n",
       "      <th>2</th>\n",
       "      <td>2</td>\n",
       "      <td>53.85</td>\n",
       "      <td>108.15</td>\n",
       "      <td>1</td>\n",
       "      <td>0</td>\n",
       "      <td>0</td>\n",
       "      <td>0</td>\n",
       "      <td>1</td>\n",
       "      <td>0</td>\n",
       "      <td>1</td>\n",
       "      <td>0</td>\n",
       "      <td>0</td>\n",
       "      <td>1</td>\n",
       "      <td>1</td>\n",
       "      <td>0</td>\n",
       "      <td>0</td>\n",
       "      <td>0</td>\n",
       "      <td>0</td>\n",
       "      <td>1</td>\n",
       "      <td>0</td>\n",
       "      <td>0</td>\n",
       "      <td>1</td>\n",
       "      <td>0</td>\n",
       "      <td>0</td>\n",
       "      <td>0</td>\n",
       "      <td>1</td>\n",
       "      <td>1</td>\n",
       "    </tr>\n",
       "    <tr>\n",
       "      <th>3</th>\n",
       "      <td>45</td>\n",
       "      <td>42.30</td>\n",
       "      <td>1840.75</td>\n",
       "      <td>1</td>\n",
       "      <td>0</td>\n",
       "      <td>0</td>\n",
       "      <td>0</td>\n",
       "      <td>0</td>\n",
       "      <td>0</td>\n",
       "      <td>1</td>\n",
       "      <td>0</td>\n",
       "      <td>0</td>\n",
       "      <td>1</td>\n",
       "      <td>0</td>\n",
       "      <td>1</td>\n",
       "      <td>1</td>\n",
       "      <td>0</td>\n",
       "      <td>0</td>\n",
       "      <td>0</td>\n",
       "      <td>1</td>\n",
       "      <td>0</td>\n",
       "      <td>0</td>\n",
       "      <td>1</td>\n",
       "      <td>0</td>\n",
       "      <td>0</td>\n",
       "      <td>0</td>\n",
       "      <td>0</td>\n",
       "    </tr>\n",
       "    <tr>\n",
       "      <th>4</th>\n",
       "      <td>2</td>\n",
       "      <td>70.70</td>\n",
       "      <td>151.65</td>\n",
       "      <td>0</td>\n",
       "      <td>0</td>\n",
       "      <td>0</td>\n",
       "      <td>0</td>\n",
       "      <td>1</td>\n",
       "      <td>0</td>\n",
       "      <td>0</td>\n",
       "      <td>1</td>\n",
       "      <td>0</td>\n",
       "      <td>0</td>\n",
       "      <td>0</td>\n",
       "      <td>0</td>\n",
       "      <td>0</td>\n",
       "      <td>0</td>\n",
       "      <td>0</td>\n",
       "      <td>1</td>\n",
       "      <td>0</td>\n",
       "      <td>0</td>\n",
       "      <td>1</td>\n",
       "      <td>0</td>\n",
       "      <td>0</td>\n",
       "      <td>1</td>\n",
       "      <td>0</td>\n",
       "      <td>1</td>\n",
       "    </tr>\n",
       "    <tr>\n",
       "      <th>...</th>\n",
       "      <td>...</td>\n",
       "      <td>...</td>\n",
       "      <td>...</td>\n",
       "      <td>...</td>\n",
       "      <td>...</td>\n",
       "      <td>...</td>\n",
       "      <td>...</td>\n",
       "      <td>...</td>\n",
       "      <td>...</td>\n",
       "      <td>...</td>\n",
       "      <td>...</td>\n",
       "      <td>...</td>\n",
       "      <td>...</td>\n",
       "      <td>...</td>\n",
       "      <td>...</td>\n",
       "      <td>...</td>\n",
       "      <td>...</td>\n",
       "      <td>...</td>\n",
       "      <td>...</td>\n",
       "      <td>...</td>\n",
       "      <td>...</td>\n",
       "      <td>...</td>\n",
       "      <td>...</td>\n",
       "      <td>...</td>\n",
       "      <td>...</td>\n",
       "      <td>...</td>\n",
       "      <td>...</td>\n",
       "    </tr>\n",
       "    <tr>\n",
       "      <th>7038</th>\n",
       "      <td>24</td>\n",
       "      <td>84.80</td>\n",
       "      <td>1990.50</td>\n",
       "      <td>1</td>\n",
       "      <td>0</td>\n",
       "      <td>1</td>\n",
       "      <td>1</td>\n",
       "      <td>1</td>\n",
       "      <td>1</td>\n",
       "      <td>1</td>\n",
       "      <td>0</td>\n",
       "      <td>0</td>\n",
       "      <td>1</td>\n",
       "      <td>0</td>\n",
       "      <td>1</td>\n",
       "      <td>1</td>\n",
       "      <td>1</td>\n",
       "      <td>1</td>\n",
       "      <td>0</td>\n",
       "      <td>1</td>\n",
       "      <td>0</td>\n",
       "      <td>1</td>\n",
       "      <td>0</td>\n",
       "      <td>0</td>\n",
       "      <td>0</td>\n",
       "      <td>1</td>\n",
       "      <td>0</td>\n",
       "    </tr>\n",
       "    <tr>\n",
       "      <th>7039</th>\n",
       "      <td>72</td>\n",
       "      <td>103.20</td>\n",
       "      <td>7362.90</td>\n",
       "      <td>0</td>\n",
       "      <td>0</td>\n",
       "      <td>1</td>\n",
       "      <td>1</td>\n",
       "      <td>1</td>\n",
       "      <td>1</td>\n",
       "      <td>0</td>\n",
       "      <td>1</td>\n",
       "      <td>0</td>\n",
       "      <td>0</td>\n",
       "      <td>1</td>\n",
       "      <td>1</td>\n",
       "      <td>0</td>\n",
       "      <td>1</td>\n",
       "      <td>1</td>\n",
       "      <td>0</td>\n",
       "      <td>1</td>\n",
       "      <td>0</td>\n",
       "      <td>1</td>\n",
       "      <td>0</td>\n",
       "      <td>1</td>\n",
       "      <td>0</td>\n",
       "      <td>0</td>\n",
       "      <td>0</td>\n",
       "    </tr>\n",
       "    <tr>\n",
       "      <th>7040</th>\n",
       "      <td>11</td>\n",
       "      <td>29.60</td>\n",
       "      <td>346.45</td>\n",
       "      <td>0</td>\n",
       "      <td>0</td>\n",
       "      <td>1</td>\n",
       "      <td>1</td>\n",
       "      <td>0</td>\n",
       "      <td>0</td>\n",
       "      <td>1</td>\n",
       "      <td>0</td>\n",
       "      <td>0</td>\n",
       "      <td>1</td>\n",
       "      <td>0</td>\n",
       "      <td>0</td>\n",
       "      <td>0</td>\n",
       "      <td>0</td>\n",
       "      <td>0</td>\n",
       "      <td>1</td>\n",
       "      <td>0</td>\n",
       "      <td>0</td>\n",
       "      <td>1</td>\n",
       "      <td>0</td>\n",
       "      <td>0</td>\n",
       "      <td>1</td>\n",
       "      <td>0</td>\n",
       "      <td>0</td>\n",
       "    </tr>\n",
       "    <tr>\n",
       "      <th>7041</th>\n",
       "      <td>4</td>\n",
       "      <td>74.40</td>\n",
       "      <td>306.60</td>\n",
       "      <td>1</td>\n",
       "      <td>1</td>\n",
       "      <td>1</td>\n",
       "      <td>0</td>\n",
       "      <td>1</td>\n",
       "      <td>1</td>\n",
       "      <td>0</td>\n",
       "      <td>1</td>\n",
       "      <td>0</td>\n",
       "      <td>0</td>\n",
       "      <td>0</td>\n",
       "      <td>0</td>\n",
       "      <td>0</td>\n",
       "      <td>0</td>\n",
       "      <td>0</td>\n",
       "      <td>1</td>\n",
       "      <td>0</td>\n",
       "      <td>0</td>\n",
       "      <td>1</td>\n",
       "      <td>0</td>\n",
       "      <td>0</td>\n",
       "      <td>0</td>\n",
       "      <td>1</td>\n",
       "      <td>1</td>\n",
       "    </tr>\n",
       "    <tr>\n",
       "      <th>7042</th>\n",
       "      <td>66</td>\n",
       "      <td>105.65</td>\n",
       "      <td>6844.50</td>\n",
       "      <td>1</td>\n",
       "      <td>0</td>\n",
       "      <td>0</td>\n",
       "      <td>0</td>\n",
       "      <td>1</td>\n",
       "      <td>0</td>\n",
       "      <td>0</td>\n",
       "      <td>1</td>\n",
       "      <td>0</td>\n",
       "      <td>1</td>\n",
       "      <td>0</td>\n",
       "      <td>1</td>\n",
       "      <td>1</td>\n",
       "      <td>1</td>\n",
       "      <td>1</td>\n",
       "      <td>0</td>\n",
       "      <td>0</td>\n",
       "      <td>1</td>\n",
       "      <td>1</td>\n",
       "      <td>1</td>\n",
       "      <td>0</td>\n",
       "      <td>0</td>\n",
       "      <td>0</td>\n",
       "      <td>0</td>\n",
       "    </tr>\n",
       "  </tbody>\n",
       "</table>\n",
       "<p>7043 rows × 27 columns</p>\n",
       "</div>"
      ],
      "text/plain": [
       "      tenure  MonthlyCharges  TotalCharges  Male 1 female 0  SeniorCitizen  \\\n",
       "0          1           29.85         29.85                0              0   \n",
       "1         34           56.95       1889.50                1              0   \n",
       "2          2           53.85        108.15                1              0   \n",
       "3         45           42.30       1840.75                1              0   \n",
       "4          2           70.70        151.65                0              0   \n",
       "...      ...             ...           ...              ...            ...   \n",
       "7038      24           84.80       1990.50                1              0   \n",
       "7039      72          103.20       7362.90                0              0   \n",
       "7040      11           29.60        346.45                0              0   \n",
       "7041       4           74.40        306.60                1              1   \n",
       "7042      66          105.65       6844.50                1              0   \n",
       "\n",
       "      Partner  Dependents  PhoneService  MultipleLines  DSL  Fiber optic  No  \\\n",
       "0           1           0             0              0    1            0   0   \n",
       "1           0           0             1              0    1            0   0   \n",
       "2           0           0             1              0    1            0   0   \n",
       "3           0           0             0              0    1            0   0   \n",
       "4           0           0             1              0    0            1   0   \n",
       "...       ...         ...           ...            ...  ...          ...  ..   \n",
       "7038        1           1             1              1    1            0   0   \n",
       "7039        1           1             1              1    0            1   0   \n",
       "7040        1           1             0              0    1            0   0   \n",
       "7041        1           0             1              1    0            1   0   \n",
       "7042        0           0             1              0    0            1   0   \n",
       "\n",
       "      OnlineSecurity  OnlineBackup  DeviceProtection  TechSupport  \\\n",
       "0                  0             1                 0            0   \n",
       "1                  1             0                 1            0   \n",
       "2                  1             1                 0            0   \n",
       "3                  1             0                 1            1   \n",
       "4                  0             0                 0            0   \n",
       "...              ...           ...               ...          ...   \n",
       "7038               1             0                 1            1   \n",
       "7039               0             1                 1            0   \n",
       "7040               1             0                 0            0   \n",
       "7041               0             0                 0            0   \n",
       "7042               1             0                 1            1   \n",
       "\n",
       "      StreamingTV  StreamingMovies  Month-to-month  One year  Two year  \\\n",
       "0               0                0               1         0         0   \n",
       "1               0                0               0         1         0   \n",
       "2               0                0               1         0         0   \n",
       "3               0                0               0         1         0   \n",
       "4               0                0               1         0         0   \n",
       "...           ...              ...             ...       ...       ...   \n",
       "7038            1                1               0         1         0   \n",
       "7039            1                1               0         1         0   \n",
       "7040            0                0               1         0         0   \n",
       "7041            0                0               1         0         0   \n",
       "7042            1                1               0         0         1   \n",
       "\n",
       "      PaperlessBilling  Bank transfer (automatic)  Credit card (automatic)  \\\n",
       "0                    1                          0                        0   \n",
       "1                    0                          0                        0   \n",
       "2                    1                          0                        0   \n",
       "3                    0                          1                        0   \n",
       "4                    1                          0                        0   \n",
       "...                ...                        ...                      ...   \n",
       "7038                 1                          0                        0   \n",
       "7039                 1                          0                        1   \n",
       "7040                 1                          0                        0   \n",
       "7041                 1                          0                        0   \n",
       "7042                 1                          1                        0   \n",
       "\n",
       "      Electronic check  Mailed check  Churn  \n",
       "0                    1             0      0  \n",
       "1                    0             1      0  \n",
       "2                    0             1      1  \n",
       "3                    0             0      0  \n",
       "4                    1             0      1  \n",
       "...                ...           ...    ...  \n",
       "7038                 0             1      0  \n",
       "7039                 0             0      0  \n",
       "7040                 1             0      0  \n",
       "7041                 0             1      1  \n",
       "7042                 0             0      0  \n",
       "\n",
       "[7043 rows x 27 columns]"
      ]
     },
     "execution_count": 27,
     "metadata": {},
     "output_type": "execute_result"
    }
   ],
   "source": [
    "fresh_df = pd.concat([fresh_df,gender,SeniorCitizen,Partner,Dependents,PhoneService,MultipleLines,InternetService,OnlineSecurity,OnlineBackup,\n",
    "                     DeviceProtection,TechSupport,StreamingTV,StreamingMovies,Contract,PaperlessBilling,PaymentMethod,Churn], axis = 1)\n",
    "\n",
    "fresh_df"
   ]
  },
  {
   "cell_type": "code",
   "execution_count": 28,
   "metadata": {
    "execution": {
     "iopub.execute_input": "2022-04-04T14:49:21.741635Z",
     "iopub.status.busy": "2022-04-04T14:49:21.741224Z",
     "iopub.status.idle": "2022-04-04T14:49:21.749208Z",
     "shell.execute_reply": "2022-04-04T14:49:21.748392Z",
     "shell.execute_reply.started": "2022-04-04T14:49:21.741576Z"
    }
   },
   "outputs": [
    {
     "data": {
      "text/plain": [
       "Index(['tenure', 'MonthlyCharges', 'TotalCharges', 'Male 1 female 0',\n",
       "       'SeniorCitizen', 'Partner', 'Dependents', 'PhoneService',\n",
       "       'MultipleLines', 'DSL', 'Fiber optic', 'No', 'OnlineSecurity',\n",
       "       'OnlineBackup', 'DeviceProtection', 'TechSupport', 'StreamingTV',\n",
       "       'StreamingMovies', 'Month-to-month', 'One year', 'Two year',\n",
       "       'PaperlessBilling', 'Bank transfer (automatic)',\n",
       "       'Credit card (automatic)', 'Electronic check', 'Mailed check', 'Churn'],\n",
       "      dtype='object')"
      ]
     },
     "execution_count": 28,
     "metadata": {},
     "output_type": "execute_result"
    }
   ],
   "source": [
    "fresh_df.columns"
   ]
  },
  {
   "cell_type": "code",
   "execution_count": 29,
   "metadata": {
    "execution": {
     "iopub.execute_input": "2022-04-04T14:49:21.751330Z",
     "iopub.status.busy": "2022-04-04T14:49:21.750442Z",
     "iopub.status.idle": "2022-04-04T14:49:21.768473Z",
     "shell.execute_reply": "2022-04-04T14:49:21.767202Z",
     "shell.execute_reply.started": "2022-04-04T14:49:21.751278Z"
    }
   },
   "outputs": [],
   "source": [
    "X = fresh_df.drop('Churn', axis=1)\n"
   ]
  },
  {
   "cell_type": "code",
   "execution_count": 30,
   "metadata": {
    "execution": {
     "iopub.execute_input": "2022-04-04T14:49:21.770702Z",
     "iopub.status.busy": "2022-04-04T14:49:21.770402Z",
     "iopub.status.idle": "2022-04-04T14:49:21.784856Z",
     "shell.execute_reply": "2022-04-04T14:49:21.783165Z",
     "shell.execute_reply.started": "2022-04-04T14:49:21.770669Z"
    }
   },
   "outputs": [],
   "source": [
    "y = fresh_df['Churn']"
   ]
  },
  {
   "cell_type": "code",
   "execution_count": 31,
   "metadata": {
    "execution": {
     "iopub.execute_input": "2022-04-04T14:49:21.789024Z",
     "iopub.status.busy": "2022-04-04T14:49:21.787739Z",
     "iopub.status.idle": "2022-04-04T14:49:21.797544Z",
     "shell.execute_reply": "2022-04-04T14:49:21.796195Z",
     "shell.execute_reply.started": "2022-04-04T14:49:21.788977Z"
    }
   },
   "outputs": [],
   "source": [
    "from sklearn.model_selection import train_test_split"
   ]
  },
  {
   "cell_type": "code",
   "execution_count": 32,
   "metadata": {
    "execution": {
     "iopub.execute_input": "2022-04-04T14:49:21.799500Z",
     "iopub.status.busy": "2022-04-04T14:49:21.798899Z",
     "iopub.status.idle": "2022-04-04T14:49:21.815244Z",
     "shell.execute_reply": "2022-04-04T14:49:21.813885Z",
     "shell.execute_reply.started": "2022-04-04T14:49:21.799447Z"
    }
   },
   "outputs": [],
   "source": [
    "X_train, X_test, y_train, y_test = train_test_split(X, y, test_size=0.33, random_state=42)"
   ]
  },
  {
   "cell_type": "code",
   "execution_count": 33,
   "metadata": {
    "execution": {
     "iopub.execute_input": "2022-04-04T14:49:21.818665Z",
     "iopub.status.busy": "2022-04-04T14:49:21.817139Z",
     "iopub.status.idle": "2022-04-04T14:49:21.824032Z",
     "shell.execute_reply": "2022-04-04T14:49:21.822416Z",
     "shell.execute_reply.started": "2022-04-04T14:49:21.818579Z"
    }
   },
   "outputs": [],
   "source": [
    "from sklearn.preprocessing import StandardScaler"
   ]
  },
  {
   "cell_type": "code",
   "execution_count": 34,
   "metadata": {
    "execution": {
     "iopub.execute_input": "2022-04-04T14:49:21.826304Z",
     "iopub.status.busy": "2022-04-04T14:49:21.825806Z",
     "iopub.status.idle": "2022-04-04T14:49:21.837349Z",
     "shell.execute_reply": "2022-04-04T14:49:21.836562Z",
     "shell.execute_reply.started": "2022-04-04T14:49:21.826252Z"
    }
   },
   "outputs": [],
   "source": [
    "scaler = StandardScaler()"
   ]
  },
  {
   "cell_type": "code",
   "execution_count": 35,
   "metadata": {
    "execution": {
     "iopub.execute_input": "2022-04-04T14:49:21.839492Z",
     "iopub.status.busy": "2022-04-04T14:49:21.838572Z",
     "iopub.status.idle": "2022-04-04T14:49:21.862527Z",
     "shell.execute_reply": "2022-04-04T14:49:21.861700Z",
     "shell.execute_reply.started": "2022-04-04T14:49:21.839453Z"
    }
   },
   "outputs": [],
   "source": [
    "X_train = scaler.fit_transform(X_train)\n",
    "X_test = scaler.transform(X_test)"
   ]
  },
  {
   "cell_type": "code",
   "execution_count": 36,
   "metadata": {
    "execution": {
     "iopub.execute_input": "2022-04-04T14:49:21.865073Z",
     "iopub.status.busy": "2022-04-04T14:49:21.864706Z",
     "iopub.status.idle": "2022-04-04T14:49:21.873556Z",
     "shell.execute_reply": "2022-04-04T14:49:21.872117Z",
     "shell.execute_reply.started": "2022-04-04T14:49:21.865041Z"
    }
   },
   "outputs": [
    {
     "data": {
      "text/plain": [
       "array([[ 0.30741281,  0.32802721,  0.32019155, ..., -0.52256167,\n",
       "         1.39928329, -0.54027294],\n",
       "       [-0.9165312 , -1.16355736, -0.89735199, ..., -0.52256167,\n",
       "        -0.71465157,  1.85091631],\n",
       "       [-0.22296293, -1.50624106, -0.78880736, ..., -0.52256167,\n",
       "        -0.71465157,  1.85091631],\n",
       "       ...,\n",
       "       [-0.83493493, -1.44002198, -0.87494619, ..., -0.52256167,\n",
       "         1.39928329, -0.54027294],\n",
       "       [-0.83493493,  1.15245465, -0.48059528, ..., -0.52256167,\n",
       "         1.39928329, -0.54027294],\n",
       "       [-0.26376106, -1.48471986, -0.80823601, ...,  1.91364974,\n",
       "        -0.71465157, -0.54027294]])"
      ]
     },
     "execution_count": 36,
     "metadata": {},
     "output_type": "execute_result"
    }
   ],
   "source": [
    "X_train"
   ]
  },
  {
   "cell_type": "markdown",
   "metadata": {},
   "source": [
    "# Logistic Regression Model"
   ]
  },
  {
   "cell_type": "code",
   "execution_count": 37,
   "metadata": {
    "execution": {
     "iopub.execute_input": "2022-04-04T14:49:21.876191Z",
     "iopub.status.busy": "2022-04-04T14:49:21.875307Z",
     "iopub.status.idle": "2022-04-04T14:49:21.883528Z",
     "shell.execute_reply": "2022-04-04T14:49:21.882284Z",
     "shell.execute_reply.started": "2022-04-04T14:49:21.876136Z"
    }
   },
   "outputs": [],
   "source": [
    "from sklearn.linear_model import LogisticRegression"
   ]
  },
  {
   "cell_type": "code",
   "execution_count": 38,
   "metadata": {
    "execution": {
     "iopub.execute_input": "2022-04-04T14:49:21.885466Z",
     "iopub.status.busy": "2022-04-04T14:49:21.885025Z",
     "iopub.status.idle": "2022-04-04T14:49:21.895994Z",
     "shell.execute_reply": "2022-04-04T14:49:21.895190Z",
     "shell.execute_reply.started": "2022-04-04T14:49:21.885432Z"
    }
   },
   "outputs": [],
   "source": [
    "classifier = LogisticRegression()"
   ]
  },
  {
   "cell_type": "code",
   "execution_count": 39,
   "metadata": {
    "execution": {
     "iopub.execute_input": "2022-04-04T14:49:21.897817Z",
     "iopub.status.busy": "2022-04-04T14:49:21.897032Z",
     "iopub.status.idle": "2022-04-04T14:49:21.957580Z",
     "shell.execute_reply": "2022-04-04T14:49:21.956689Z",
     "shell.execute_reply.started": "2022-04-04T14:49:21.897777Z"
    }
   },
   "outputs": [
    {
     "data": {
      "text/plain": [
       "LogisticRegression()"
      ]
     },
     "execution_count": 39,
     "metadata": {},
     "output_type": "execute_result"
    }
   ],
   "source": [
    "classifier.fit(X_train,y_train)"
   ]
  },
  {
   "cell_type": "code",
   "execution_count": 40,
   "metadata": {
    "execution": {
     "iopub.execute_input": "2022-04-04T14:49:21.959692Z",
     "iopub.status.busy": "2022-04-04T14:49:21.959123Z",
     "iopub.status.idle": "2022-04-04T14:49:21.966354Z",
     "shell.execute_reply": "2022-04-04T14:49:21.965069Z",
     "shell.execute_reply.started": "2022-04-04T14:49:21.959614Z"
    }
   },
   "outputs": [],
   "source": [
    "y_prediction = classifier.predict(X_test)"
   ]
  },
  {
   "cell_type": "code",
   "execution_count": 41,
   "metadata": {
    "execution": {
     "iopub.execute_input": "2022-04-04T14:49:21.969661Z",
     "iopub.status.busy": "2022-04-04T14:49:21.967944Z",
     "iopub.status.idle": "2022-04-04T14:49:21.979044Z",
     "shell.execute_reply": "2022-04-04T14:49:21.977970Z",
     "shell.execute_reply.started": "2022-04-04T14:49:21.969588Z"
    }
   },
   "outputs": [],
   "source": [
    "from sklearn.metrics import classification_report,confusion_matrix"
   ]
  },
  {
   "cell_type": "code",
   "execution_count": 42,
   "metadata": {
    "execution": {
     "iopub.execute_input": "2022-04-04T14:49:21.981137Z",
     "iopub.status.busy": "2022-04-04T14:49:21.980596Z",
     "iopub.status.idle": "2022-04-04T14:49:22.009949Z",
     "shell.execute_reply": "2022-04-04T14:49:22.008912Z",
     "shell.execute_reply.started": "2022-04-04T14:49:21.981093Z"
    }
   },
   "outputs": [
    {
     "name": "stdout",
     "output_type": "stream",
     "text": [
      "[[1530  167]\n",
      " [ 258  370]]\n",
      "\n",
      "\n",
      "              precision    recall  f1-score   support\n",
      "\n",
      "           0       0.86      0.90      0.88      1697\n",
      "           1       0.69      0.59      0.64       628\n",
      "\n",
      "    accuracy                           0.82      2325\n",
      "   macro avg       0.77      0.75      0.76      2325\n",
      "weighted avg       0.81      0.82      0.81      2325\n",
      "\n"
     ]
    }
   ],
   "source": [
    "print(confusion_matrix(y_test,y_prediction))\n",
    "print('\\n')\n",
    "print(classification_report(y_test,y_prediction))"
   ]
  },
  {
   "cell_type": "code",
   "execution_count": null,
   "metadata": {},
   "outputs": [],
   "source": []
  },
  {
   "cell_type": "markdown",
   "metadata": {},
   "source": [
    "# KNN MODEL"
   ]
  },
  {
   "cell_type": "code",
   "execution_count": 43,
   "metadata": {
    "execution": {
     "iopub.execute_input": "2022-04-04T14:49:22.012319Z",
     "iopub.status.busy": "2022-04-04T14:49:22.011750Z",
     "iopub.status.idle": "2022-04-04T14:49:22.030613Z",
     "shell.execute_reply": "2022-04-04T14:49:22.029413Z",
     "shell.execute_reply.started": "2022-04-04T14:49:22.012268Z"
    }
   },
   "outputs": [
    {
     "data": {
      "text/plain": [
       "KNeighborsClassifier(n_neighbors=35)"
      ]
     },
     "execution_count": 43,
     "metadata": {},
     "output_type": "execute_result"
    }
   ],
   "source": [
    "from sklearn.neighbors import KNeighborsClassifier\n",
    "classifier_knn = KNeighborsClassifier(n_neighbors=35)\n",
    "classifier_knn.fit(X_train, y_train)"
   ]
  },
  {
   "cell_type": "code",
   "execution_count": 44,
   "metadata": {
    "execution": {
     "iopub.execute_input": "2022-04-04T14:49:22.039649Z",
     "iopub.status.busy": "2022-04-04T14:49:22.038006Z",
     "iopub.status.idle": "2022-04-04T14:49:22.492531Z",
     "shell.execute_reply": "2022-04-04T14:49:22.491839Z",
     "shell.execute_reply.started": "2022-04-04T14:49:22.039553Z"
    }
   },
   "outputs": [],
   "source": [
    "y_pred_knn = classifier_knn.predict(X_test)"
   ]
  },
  {
   "cell_type": "code",
   "execution_count": 45,
   "metadata": {
    "execution": {
     "iopub.execute_input": "2022-04-04T14:49:22.494561Z",
     "iopub.status.busy": "2022-04-04T14:49:22.494020Z",
     "iopub.status.idle": "2022-04-04T14:49:22.514242Z",
     "shell.execute_reply": "2022-04-04T14:49:22.513304Z",
     "shell.execute_reply.started": "2022-04-04T14:49:22.494343Z"
    }
   },
   "outputs": [
    {
     "name": "stdout",
     "output_type": "stream",
     "text": [
      "[[1496  201]\n",
      " [ 251  377]]\n",
      "\n",
      "\n",
      "              precision    recall  f1-score   support\n",
      "\n",
      "           0       0.86      0.88      0.87      1697\n",
      "           1       0.65      0.60      0.63       628\n",
      "\n",
      "    accuracy                           0.81      2325\n",
      "   macro avg       0.75      0.74      0.75      2325\n",
      "weighted avg       0.80      0.81      0.80      2325\n",
      "\n"
     ]
    }
   ],
   "source": [
    "print(confusion_matrix(y_test, y_pred_knn))\n",
    "print('\\n')\n",
    "print(classification_report(y_test, y_pred_knn))"
   ]
  },
  {
   "cell_type": "code",
   "execution_count": 46,
   "metadata": {
    "execution": {
     "iopub.execute_input": "2022-04-04T14:49:22.516636Z",
     "iopub.status.busy": "2022-04-04T14:49:22.515735Z",
     "iopub.status.idle": "2022-04-04T14:49:37.257423Z",
     "shell.execute_reply": "2022-04-04T14:49:37.256379Z",
     "shell.execute_reply.started": "2022-04-04T14:49:22.516568Z"
    }
   },
   "outputs": [],
   "source": [
    "error = []\n",
    "\n",
    "# Calculating error for K values between 1 and 40\n",
    "for i in range(1, 40):\n",
    "    knn = KNeighborsClassifier(n_neighbors=i)\n",
    "    knn.fit(X_train, y_train)\n",
    "    pred_i = knn.predict(X_test)\n",
    "    error.append(np.mean(pred_i != y_test))"
   ]
  },
  {
   "cell_type": "code",
   "execution_count": 47,
   "metadata": {
    "execution": {
     "iopub.execute_input": "2022-04-04T14:49:37.259282Z",
     "iopub.status.busy": "2022-04-04T14:49:37.258964Z",
     "iopub.status.idle": "2022-04-04T14:49:37.508903Z",
     "shell.execute_reply": "2022-04-04T14:49:37.507721Z",
     "shell.execute_reply.started": "2022-04-04T14:49:37.259240Z"
    }
   },
   "outputs": [
    {
     "data": {
      "text/plain": [
       "Text(0, 0.5, 'Mean Error')"
      ]
     },
     "execution_count": 47,
     "metadata": {},
     "output_type": "execute_result"
    },
    {
     "data": {
      "image/png": "[encoded data removed]",
      "text/plain": [
       "<Figure size 864x432 with 1 Axes>"
      ]
     },
     "metadata": {},
     "output_type": "display_data"
    }
   ],
   "source": [
    "plt.figure(figsize=(12, 6))\n",
    "plt.plot(range(1, 40), error, color='red', linestyle='dashed', marker='o',\n",
    "         markerfacecolor='blue', markersize=10)\n",
    "plt.title('Error Rate K Value')\n",
    "plt.xlabel('K Value')\n",
    "plt.ylabel('Mean Error')"
   ]
  },
  {
   "cell_type": "markdown",
   "metadata": {},
   "source": [
    "# Decision Tree Model"
   ]
  },
  {
   "cell_type": "code",
   "execution_count": 48,
   "metadata": {
    "execution": {
     "iopub.execute_input": "2022-04-04T14:49:37.511160Z",
     "iopub.status.busy": "2022-04-04T14:49:37.510796Z",
     "iopub.status.idle": "2022-04-04T14:49:37.516683Z",
     "shell.execute_reply": "2022-04-04T14:49:37.515693Z",
     "shell.execute_reply.started": "2022-04-04T14:49:37.511110Z"
    }
   },
   "outputs": [],
   "source": [
    "from sklearn.tree import DecisionTreeClassifier"
   ]
  },
  {
   "cell_type": "code",
   "execution_count": 49,
   "metadata": {
    "execution": {
     "iopub.execute_input": "2022-04-04T14:49:37.519477Z",
     "iopub.status.busy": "2022-04-04T14:49:37.518261Z",
     "iopub.status.idle": "2022-04-04T14:49:37.527761Z",
     "shell.execute_reply": "2022-04-04T14:49:37.526754Z",
     "shell.execute_reply.started": "2022-04-04T14:49:37.519422Z"
    }
   },
   "outputs": [],
   "source": [
    "dtree = DecisionTreeClassifier()"
   ]
  },
  {
   "cell_type": "code",
   "execution_count": 50,
   "metadata": {
    "execution": {
     "iopub.execute_input": "2022-04-04T14:49:37.530002Z",
     "iopub.status.busy": "2022-04-04T14:49:37.529076Z",
     "iopub.status.idle": "2022-04-04T14:49:37.565857Z",
     "shell.execute_reply": "2022-04-04T14:49:37.564707Z",
     "shell.execute_reply.started": "2022-04-04T14:49:37.529949Z"
    }
   },
   "outputs": [
    {
     "data": {
      "text/plain": [
       "DecisionTreeClassifier()"
      ]
     },
     "execution_count": 50,
     "metadata": {},
     "output_type": "execute_result"
    }
   ],
   "source": [
    "dtree.fit(X_train,y_train)"
   ]
  },
  {
   "cell_type": "code",
   "execution_count": 51,
   "metadata": {
    "execution": {
     "iopub.execute_input": "2022-04-04T14:49:37.567489Z",
     "iopub.status.busy": "2022-04-04T14:49:37.567230Z",
     "iopub.status.idle": "2022-04-04T14:49:37.572485Z",
     "shell.execute_reply": "2022-04-04T14:49:37.571852Z",
     "shell.execute_reply.started": "2022-04-04T14:49:37.567459Z"
    }
   },
   "outputs": [],
   "source": [
    "dtree_prediction = dtree.predict(X_test)"
   ]
  },
  {
   "cell_type": "code",
   "execution_count": 52,
   "metadata": {
    "execution": {
     "iopub.execute_input": "2022-04-04T14:49:37.574025Z",
     "iopub.status.busy": "2022-04-04T14:49:37.573681Z",
     "iopub.status.idle": "2022-04-04T14:49:37.594516Z",
     "shell.execute_reply": "2022-04-04T14:49:37.593873Z",
     "shell.execute_reply.started": "2022-04-04T14:49:37.573995Z"
    }
   },
   "outputs": [
    {
     "name": "stdout",
     "output_type": "stream",
     "text": [
      "[[1382  315]\n",
      " [ 301  327]]\n",
      "\n",
      "\n",
      "              precision    recall  f1-score   support\n",
      "\n",
      "           0       0.82      0.81      0.82      1697\n",
      "           1       0.51      0.52      0.51       628\n",
      "\n",
      "    accuracy                           0.74      2325\n",
      "   macro avg       0.67      0.67      0.67      2325\n",
      "weighted avg       0.74      0.74      0.74      2325\n",
      "\n"
     ]
    }
   ],
   "source": [
    "print(confusion_matrix(y_test,dtree_prediction))\n",
    "print('\\n')\n",
    "print(classification_report(y_test,dtree_prediction))"
   ]
  },
  {
   "cell_type": "markdown",
   "metadata": {},
   "source": [
    "# Random Forest Model"
   ]
  },
  {
   "cell_type": "code",
   "execution_count": 53,
   "metadata": {
    "execution": {
     "iopub.execute_input": "2022-04-04T14:49:37.595943Z",
     "iopub.status.busy": "2022-04-04T14:49:37.595590Z",
     "iopub.status.idle": "2022-04-04T14:49:37.599515Z",
     "shell.execute_reply": "2022-04-04T14:49:37.598911Z",
     "shell.execute_reply.started": "2022-04-04T14:49:37.595914Z"
    }
   },
   "outputs": [],
   "source": [
    "from sklearn.ensemble import RandomForestClassifier"
   ]
  },
  {
   "cell_type": "code",
   "execution_count": 54,
   "metadata": {
    "execution": {
     "iopub.execute_input": "2022-04-04T14:49:37.600965Z",
     "iopub.status.busy": "2022-04-04T14:49:37.600605Z",
     "iopub.status.idle": "2022-04-04T14:49:37.612528Z",
     "shell.execute_reply": "2022-04-04T14:49:37.611723Z",
     "shell.execute_reply.started": "2022-04-04T14:49:37.600936Z"
    }
   },
   "outputs": [],
   "source": [
    "rfc = RandomForestClassifier()"
   ]
  },
  {
   "cell_type": "code",
   "execution_count": 55,
   "metadata": {
    "execution": {
     "iopub.execute_input": "2022-04-04T14:49:37.614016Z",
     "iopub.status.busy": "2022-04-04T14:49:37.613670Z",
     "iopub.status.idle": "2022-04-04T14:49:38.947426Z",
     "shell.execute_reply": "2022-04-04T14:49:38.946794Z",
     "shell.execute_reply.started": "2022-04-04T14:49:37.613986Z"
    }
   },
   "outputs": [
    {
     "data": {
      "text/plain": [
       "RandomForestClassifier()"
      ]
     },
     "execution_count": 55,
     "metadata": {},
     "output_type": "execute_result"
    }
   ],
   "source": [
    "rfc.fit(X_train,y_train)"
   ]
  },
  {
   "cell_type": "code",
   "execution_count": 56,
   "metadata": {
    "execution": {
     "iopub.execute_input": "2022-04-04T14:49:38.948893Z",
     "iopub.status.busy": "2022-04-04T14:49:38.948497Z",
     "iopub.status.idle": "2022-04-04T14:49:39.010416Z",
     "shell.execute_reply": "2022-04-04T14:49:39.009476Z",
     "shell.execute_reply.started": "2022-04-04T14:49:38.948862Z"
    }
   },
   "outputs": [],
   "source": [
    "rfc_prediction = rfc.predict(X_test)"
   ]
  },
  {
   "cell_type": "code",
   "execution_count": 57,
   "metadata": {
    "execution": {
     "iopub.execute_input": "2022-04-04T14:49:39.012344Z",
     "iopub.status.busy": "2022-04-04T14:49:39.011891Z",
     "iopub.status.idle": "2022-04-04T14:49:39.028688Z",
     "shell.execute_reply": "2022-04-04T14:49:39.027751Z",
     "shell.execute_reply.started": "2022-04-04T14:49:39.012312Z"
    }
   },
   "outputs": [
    {
     "name": "stdout",
     "output_type": "stream",
     "text": [
      "[[1382  315]\n",
      " [ 301  327]]\n",
      "\n",
      "\n",
      "              precision    recall  f1-score   support\n",
      "\n",
      "           0       0.82      0.81      0.82      1697\n",
      "           1       0.51      0.52      0.51       628\n",
      "\n",
      "    accuracy                           0.74      2325\n",
      "   macro avg       0.67      0.67      0.67      2325\n",
      "weighted avg       0.74      0.74      0.74      2325\n",
      "\n"
     ]
    }
   ],
   "source": [
    "print(confusion_matrix(y_test,dtree_prediction))\n",
    "print('\\n')\n",
    "print(classification_report(y_test,dtree_prediction))"
   ]
  },
  {
   "cell_type": "markdown",
   "metadata": {},
   "source": [
    "# Deep Learning Model"
   ]
  },
  {
   "cell_type": "code",
   "execution_count": 58,
   "metadata": {
    "execution": {
     "iopub.execute_input": "2022-04-04T14:49:39.030290Z",
     "iopub.status.busy": "2022-04-04T14:49:39.030039Z",
     "iopub.status.idle": "2022-04-04T14:49:39.035204Z",
     "shell.execute_reply": "2022-04-04T14:49:39.034292Z",
     "shell.execute_reply.started": "2022-04-04T14:49:39.030258Z"
    }
   },
   "outputs": [],
   "source": [
    "import tensorflow as tf\n",
    "from tensorflow.keras.models import Sequential\n",
    "from tensorflow.keras.layers import Dense,Activation,Dropout\n",
    "from tensorflow.keras.constraints import max_norm"
   ]
  },
  {
   "cell_type": "code",
   "execution_count": 59,
   "metadata": {
    "execution": {
     "iopub.execute_input": "2022-04-04T14:49:39.036761Z",
     "iopub.status.busy": "2022-04-04T14:49:39.036348Z",
     "iopub.status.idle": "2022-04-04T14:49:39.050429Z",
     "shell.execute_reply": "2022-04-04T14:49:39.049353Z",
     "shell.execute_reply.started": "2022-04-04T14:49:39.036717Z"
    }
   },
   "outputs": [],
   "source": [
    "model = Sequential()"
   ]
  },
  {
   "cell_type": "code",
   "execution_count": 60,
   "metadata": {
    "execution": {
     "iopub.execute_input": "2022-04-04T14:49:39.052467Z",
     "iopub.status.busy": "2022-04-04T14:49:39.051829Z",
     "iopub.status.idle": "2022-04-04T14:49:39.079484Z",
     "shell.execute_reply": "2022-04-04T14:49:39.078540Z",
     "shell.execute_reply.started": "2022-04-04T14:49:39.052432Z"
    }
   },
   "outputs": [],
   "source": [
    "model = Sequential()\n",
    "\n",
    "model.add(Dense(50, activation = 'relu'))\n",
    "model.add(Dropout(0.2))\n",
    "\n",
    "model.add(Dense(25, activation = 'relu'))\n",
    "model.add(Dropout(0.2))\n",
    "\n",
    "model.add(Dense(12, activation = 'relu'))\n",
    "model.add(Dropout(0.2))\n",
    "\n",
    "model.add(Dense(units=1,activation='sigmoid'))\n",
    "\n",
    "model.compile(loss='binary_crossentropy',optimizer='adam')"
   ]
  },
  {
   "cell_type": "code",
   "execution_count": 61,
   "metadata": {
    "execution": {
     "iopub.execute_input": "2022-04-04T14:49:39.081117Z",
     "iopub.status.busy": "2022-04-04T14:49:39.080859Z",
     "iopub.status.idle": "2022-04-04T14:49:47.412293Z",
     "shell.execute_reply": "2022-04-04T14:49:47.411356Z",
     "shell.execute_reply.started": "2022-04-04T14:49:39.081086Z"
    }
   },
   "outputs": [
    {
     "name": "stdout",
     "output_type": "stream",
     "text": [
      "Epoch 1/50\n",
      "24/24 [==============================] - 18s 80ms/step - loss: 0.6017 - val_loss: 0.4856\n",
      "Epoch 2/50\n",
      "24/24 [==============================] - 0s 6ms/step - loss: 0.5069 - val_loss: 0.4466\n",
      "Epoch 3/50\n",
      "24/24 [==============================] - 0s 6ms/step - loss: 0.4778 - val_loss: 0.4297\n",
      "Epoch 4/50\n",
      "24/24 [==============================] - 0s 5ms/step - loss: 0.4735 - val_loss: 0.4247\n",
      "Epoch 5/50\n",
      "24/24 [==============================] - 0s 5ms/step - loss: 0.4605 - val_loss: 0.4205\n",
      "Epoch 6/50\n",
      "24/24 [==============================] - 0s 7ms/step - loss: 0.4552 - val_loss: 0.4182\n",
      "Epoch 7/50\n",
      "24/24 [==============================] - 0s 7ms/step - loss: 0.4576 - val_loss: 0.4201\n",
      "Epoch 8/50\n",
      "24/24 [==============================] - 0s 6ms/step - loss: 0.4474 - val_loss: 0.4179\n",
      "Epoch 9/50\n",
      "24/24 [==============================] - 0s 8ms/step - loss: 0.4499 - val_loss: 0.4180\n",
      "Epoch 10/50\n",
      "24/24 [==============================] - 0s 8ms/step - loss: 0.4430 - val_loss: 0.4181\n",
      "Epoch 11/50\n",
      "24/24 [==============================] - 0s 7ms/step - loss: 0.4400 - val_loss: 0.4165\n",
      "Epoch 12/50\n",
      "24/24 [==============================] - 0s 6ms/step - loss: 0.4428 - val_loss: 0.4161\n",
      "Epoch 13/50\n",
      "24/24 [==============================] - 0s 6ms/step - loss: 0.4411 - val_loss: 0.4157\n",
      "Epoch 14/50\n",
      "24/24 [==============================] - 0s 6ms/step - loss: 0.4375 - val_loss: 0.4157\n",
      "Epoch 15/50\n",
      "24/24 [==============================] - 0s 8ms/step - loss: 0.4319 - val_loss: 0.4144\n",
      "Epoch 16/50\n",
      "24/24 [==============================] - 0s 9ms/step - loss: 0.4368 - val_loss: 0.4148\n",
      "Epoch 17/50\n",
      "24/24 [==============================] - 0s 8ms/step - loss: 0.4309 - val_loss: 0.4144\n",
      "Epoch 18/50\n",
      "24/24 [==============================] - 0s 6ms/step - loss: 0.4313 - val_loss: 0.4148\n",
      "Epoch 19/50\n",
      "24/24 [==============================] - 0s 15ms/step - loss: 0.4272 - val_loss: 0.4141\n",
      "Epoch 20/50\n",
      "24/24 [==============================] - 0s 8ms/step - loss: 0.4264 - val_loss: 0.4141\n",
      "Epoch 21/50\n",
      "24/24 [==============================] - 0s 8ms/step - loss: 0.4265 - val_loss: 0.4133\n",
      "Epoch 22/50\n",
      "24/24 [==============================] - 0s 7ms/step - loss: 0.4268 - val_loss: 0.4134\n",
      "Epoch 23/50\n",
      "24/24 [==============================] - 0s 7ms/step - loss: 0.4240 - val_loss: 0.4129\n",
      "Epoch 24/50\n",
      "24/24 [==============================] - 0s 8ms/step - loss: 0.4263 - val_loss: 0.4136\n",
      "Epoch 25/50\n",
      "24/24 [==============================] - 0s 5ms/step - loss: 0.4255 - val_loss: 0.4145\n",
      "Epoch 26/50\n",
      "24/24 [==============================] - 0s 6ms/step - loss: 0.4209 - val_loss: 0.4137\n",
      "Epoch 27/50\n",
      "24/24 [==============================] - 0s 6ms/step - loss: 0.4191 - val_loss: 0.4133\n",
      "Epoch 28/50\n",
      "24/24 [==============================] - 0s 6ms/step - loss: 0.4247 - val_loss: 0.4134\n",
      "Epoch 29/50\n",
      "24/24 [==============================] - 0s 12ms/step - loss: 0.4217 - val_loss: 0.4131\n",
      "Epoch 30/50\n",
      "24/24 [==============================] - 0s 7ms/step - loss: 0.4206 - val_loss: 0.4133\n",
      "Epoch 31/50\n",
      "24/24 [==============================] - 0s 6ms/step - loss: 0.4169 - val_loss: 0.4144\n",
      "Epoch 32/50\n",
      "24/24 [==============================] - 0s 6ms/step - loss: 0.4197 - val_loss: 0.4148\n",
      "Epoch 33/50\n",
      "24/24 [==============================] - 0s 8ms/step - loss: 0.4224 - val_loss: 0.4149\n",
      "Epoch 34/50\n",
      "24/24 [==============================] - 0s 8ms/step - loss: 0.4212 - val_loss: 0.4154\n",
      "Epoch 35/50\n",
      "24/24 [==============================] - 0s 5ms/step - loss: 0.4182 - val_loss: 0.4148\n",
      "Epoch 36/50\n",
      "24/24 [==============================] - 0s 5ms/step - loss: 0.4170 - val_loss: 0.4150\n",
      "Epoch 37/50\n",
      "24/24 [==============================] - 0s 5ms/step - loss: 0.4156 - val_loss: 0.4141\n",
      "Epoch 38/50\n",
      "24/24 [==============================] - 0s 5ms/step - loss: 0.4124 - val_loss: 0.4131\n",
      "Epoch 39/50\n",
      "24/24 [==============================] - 0s 5ms/step - loss: 0.4113 - val_loss: 0.4121\n",
      "Epoch 40/50\n",
      "24/24 [==============================] - 0s 5ms/step - loss: 0.4092 - val_loss: 0.4133\n",
      "Epoch 41/50\n",
      "24/24 [==============================] - 0s 10ms/step - loss: 0.4163 - val_loss: 0.4135\n",
      "Epoch 42/50\n",
      "24/24 [==============================] - 0s 6ms/step - loss: 0.4182 - val_loss: 0.4134\n",
      "Epoch 43/50\n",
      "24/24 [==============================] - 0s 5ms/step - loss: 0.4108 - val_loss: 0.4137\n",
      "Epoch 44/50\n",
      "24/24 [==============================] - 0s 6ms/step - loss: 0.4126 - val_loss: 0.4147\n",
      "Epoch 45/50\n",
      "24/24 [==============================] - 0s 5ms/step - loss: 0.4139 - val_loss: 0.4145\n",
      "Epoch 46/50\n",
      "24/24 [==============================] - 0s 5ms/step - loss: 0.4108 - val_loss: 0.4156\n",
      "Epoch 47/50\n",
      "24/24 [==============================] - 0s 5ms/step - loss: 0.4145 - val_loss: 0.4157\n",
      "Epoch 48/50\n",
      "24/24 [==============================] - 0s 6ms/step - loss: 0.4121 - val_loss: 0.4152\n",
      "Epoch 49/50\n",
      "24/24 [==============================] - 0s 6ms/step - loss: 0.4064 - val_loss: 0.4159\n",
      "Epoch 50/50\n",
      "24/24 [==============================] - 0s 6ms/step - loss: 0.4135 - val_loss: 0.4143\n"
     ]
    },
    {
     "data": {
      "text/plain": [
       "<keras.callbacks.History at 0x144e773df40>"
      ]
     },
     "execution_count": 61,
     "metadata": {},
     "output_type": "execute_result"
    }
   ],
   "source": [
    "model.fit(x=X_train,y=y_train,\n",
    "         epochs=50,\n",
    "         batch_size = 200,\n",
    "         validation_data=(X_test,y_test))"
   ]
  },
  {
   "cell_type": "code",
   "execution_count": 62,
   "metadata": {
    "execution": {
     "iopub.execute_input": "2022-04-04T14:49:47.414286Z",
     "iopub.status.busy": "2022-04-04T14:49:47.413954Z",
     "iopub.status.idle": "2022-04-04T14:49:47.420103Z",
     "shell.execute_reply": "2022-04-04T14:49:47.419191Z",
     "shell.execute_reply.started": "2022-04-04T14:49:47.414241Z"
    }
   },
   "outputs": [],
   "source": [
    "losses = pd.DataFrame(model.history.history)"
   ]
  },
  {
   "cell_type": "code",
   "execution_count": 63,
   "metadata": {
    "execution": {
     "iopub.execute_input": "2022-04-04T14:49:47.421929Z",
     "iopub.status.busy": "2022-04-04T14:49:47.421396Z",
     "iopub.status.idle": "2022-04-04T14:49:47.681783Z",
     "shell.execute_reply": "2022-04-04T14:49:47.680700Z",
     "shell.execute_reply.started": "2022-04-04T14:49:47.421892Z"
    }
   },
   "outputs": [
    {
     "data": {
      "text/plain": [
       "<AxesSubplot:>"
      ]
     },
     "execution_count": 63,
     "metadata": {},
     "output_type": "execute_result"
    },
    {
     "data": {
      "image/png": "[encoded data removed]",
      "text/plain": [
       "<Figure size 576x396 with 1 Axes>"
      ]
     },
     "metadata": {},
     "output_type": "display_data"
    }
   ],
   "source": [
    "losses[['loss','val_loss']].plot()"
   ]
  },
  {
   "cell_type": "code",
   "execution_count": 64,
   "metadata": {
    "execution": {
     "iopub.execute_input": "2022-04-04T14:49:47.683943Z",
     "iopub.status.busy": "2022-04-04T14:49:47.683411Z",
     "iopub.status.idle": "2022-04-04T14:49:47.908907Z",
     "shell.execute_reply": "2022-04-04T14:49:47.907753Z",
     "shell.execute_reply.started": "2022-04-04T14:49:47.683895Z"
    }
   },
   "outputs": [],
   "source": [
    "keras_predictions = model.predict(X_test)"
   ]
  },
  {
   "cell_type": "code",
   "execution_count": 65,
   "metadata": {
    "execution": {
     "iopub.execute_input": "2022-04-04T14:49:47.910897Z",
     "iopub.status.busy": "2022-04-04T14:49:47.910582Z",
     "iopub.status.idle": "2022-04-04T14:49:47.928852Z",
     "shell.execute_reply": "2022-04-04T14:49:47.927825Z",
     "shell.execute_reply.started": "2022-04-04T14:49:47.910863Z"
    }
   },
   "outputs": [
    {
     "name": "stdout",
     "output_type": "stream",
     "text": [
      "[[1382  315]\n",
      " [ 301  327]]\n",
      "\n",
      "\n",
      "              precision    recall  f1-score   support\n",
      "\n",
      "           0       0.82      0.81      0.82      1697\n",
      "           1       0.51      0.52      0.51       628\n",
      "\n",
      "    accuracy                           0.74      2325\n",
      "   macro avg       0.67      0.67      0.67      2325\n",
      "weighted avg       0.74      0.74      0.74      2325\n",
      "\n"
     ]
    }
   ],
   "source": [
    "print(confusion_matrix(y_test,dtree_prediction))\n",
    "print('\\n')\n",
    "print(classification_report(y_test,dtree_prediction))"
   ]
  },
  {
   "cell_type": "code",
   "execution_count": 66,
   "metadata": {
    "execution": {
     "iopub.execute_input": "2022-04-04T14:49:47.930974Z",
     "iopub.status.busy": "2022-04-04T14:49:47.930217Z",
     "iopub.status.idle": "2022-04-04T14:49:47.940839Z",
     "shell.execute_reply": "2022-04-04T14:49:47.940135Z",
     "shell.execute_reply.started": "2022-04-04T14:49:47.930932Z"
    }
   },
   "outputs": [
    {
     "data": {
      "text/plain": [
       "tenure                        1.00\n",
       "MonthlyCharges               29.85\n",
       "TotalCharges                 29.85\n",
       "Male 1 female 0               0.00\n",
       "SeniorCitizen                 0.00\n",
       "Partner                       1.00\n",
       "Dependents                    0.00\n",
       "PhoneService                  0.00\n",
       "MultipleLines                 0.00\n",
       "DSL                           1.00\n",
       "Fiber optic                   0.00\n",
       "No                            0.00\n",
       "OnlineSecurity                0.00\n",
       "OnlineBackup                  1.00\n",
       "DeviceProtection              0.00\n",
       "TechSupport                   0.00\n",
       "StreamingTV                   0.00\n",
       "StreamingMovies               0.00\n",
       "Month-to-month                1.00\n",
       "One year                      0.00\n",
       "Two year                      0.00\n",
       "PaperlessBilling              1.00\n",
       "Bank transfer (automatic)     0.00\n",
       "Credit card (automatic)       0.00\n",
       "Electronic check              1.00\n",
       "Mailed check                  0.00\n",
       "Name: 0, dtype: float64"
      ]
     },
     "execution_count": 66,
     "metadata": {},
     "output_type": "execute_result"
    }
   ],
   "source": [
    "single_cx = fresh_df.drop('Churn',axis=1).iloc[0]\n",
    "single_cx"
   ]
  },
  {
   "cell_type": "code",
   "execution_count": 67,
   "metadata": {
    "execution": {
     "iopub.execute_input": "2022-04-04T14:49:47.942537Z",
     "iopub.status.busy": "2022-04-04T14:49:47.941962Z",
     "iopub.status.idle": "2022-04-04T14:49:47.952966Z",
     "shell.execute_reply": "2022-04-04T14:49:47.951359Z",
     "shell.execute_reply.started": "2022-04-04T14:49:47.942490Z"
    }
   },
   "outputs": [],
   "source": [
    "single_cx = scaler.transform(single_cx.values.reshape(-10,26))"
   ]
  },
  {
   "cell_type": "code",
   "execution_count": 68,
   "metadata": {
    "execution": {
     "iopub.execute_input": "2022-04-04T14:49:47.955415Z",
     "iopub.status.busy": "2022-04-04T14:49:47.954939Z",
     "iopub.status.idle": "2022-04-04T14:49:47.966396Z",
     "shell.execute_reply": "2022-04-04T14:49:47.965682Z",
     "shell.execute_reply.started": "2022-04-04T14:49:47.955284Z"
    }
   },
   "outputs": [
    {
     "data": {
      "text/plain": [
       "array([[-1.28371441, -1.15196902, -0.99676671, -1.032315  , -0.43441055,\n",
       "         1.02925348, -0.66113555, -3.09874929, -0.86490163,  1.38157686,\n",
       "        -0.87732116, -0.53306562, -0.63245553,  1.37382419, -0.71329823,\n",
       "        -0.63738475, -0.79424999, -0.80279227,  0.91695777, -0.52223297,\n",
       "        -0.56576456,  0.84043388, -0.53339345, -0.52256167,  1.39928329,\n",
       "        -0.54027294]])"
      ]
     },
     "execution_count": 68,
     "metadata": {},
     "output_type": "execute_result"
    }
   ],
   "source": [
    "single_cx"
   ]
  },
  {
   "cell_type": "code",
   "execution_count": 69,
   "metadata": {
    "execution": {
     "iopub.execute_input": "2022-04-04T14:49:47.968929Z",
     "iopub.status.busy": "2022-04-04T14:49:47.968111Z",
     "iopub.status.idle": "2022-04-04T14:49:48.054262Z",
     "shell.execute_reply": "2022-04-04T14:49:48.052209Z",
     "shell.execute_reply.started": "2022-04-04T14:49:47.968876Z"
    }
   },
   "outputs": [
    {
     "data": {
      "text/plain": [
       "array([[0.5151096]], dtype=float32)"
      ]
     },
     "execution_count": 69,
     "metadata": {},
     "output_type": "execute_result"
    }
   ],
   "source": [
    "model.predict(single_cx)"
   ]
  },
  {
   "cell_type": "code",
   "execution_count": 70,
   "metadata": {
    "execution": {
     "iopub.execute_input": "2022-04-04T14:51:26.289307Z",
     "iopub.status.busy": "2022-04-04T14:51:26.288777Z",
     "iopub.status.idle": "2022-04-04T14:51:26.314246Z",
     "shell.execute_reply": "2022-04-04T14:51:26.313167Z",
     "shell.execute_reply.started": "2022-04-04T14:51:26.289272Z"
    }
   },
   "outputs": [
    {
     "data": {
      "text/html": [
       "<div>\n",
       "<style scoped>\n",
       "    .dataframe tbody tr th:only-of-type {\n",
       "        vertical-align: middle;\n",
       "    }\n",
       "\n",
       "    .dataframe tbody tr th {\n",
       "        vertical-align: top;\n",
       "    }\n",
       "\n",
       "    .dataframe thead th {\n",
       "        text-align: right;\n",
       "    }\n",
       "</style>\n",
       "<table border=\"1\" class=\"dataframe\">\n",
       "  <thead>\n",
       "    <tr style=\"text-align: right;\">\n",
       "      <th></th>\n",
       "      <th>tenure</th>\n",
       "      <th>MonthlyCharges</th>\n",
       "      <th>TotalCharges</th>\n",
       "      <th>Male 1 female 0</th>\n",
       "      <th>SeniorCitizen</th>\n",
       "      <th>Partner</th>\n",
       "      <th>Dependents</th>\n",
       "      <th>PhoneService</th>\n",
       "      <th>MultipleLines</th>\n",
       "      <th>DSL</th>\n",
       "      <th>Fiber optic</th>\n",
       "      <th>No</th>\n",
       "      <th>OnlineSecurity</th>\n",
       "      <th>OnlineBackup</th>\n",
       "      <th>DeviceProtection</th>\n",
       "      <th>TechSupport</th>\n",
       "      <th>StreamingTV</th>\n",
       "      <th>StreamingMovies</th>\n",
       "      <th>Month-to-month</th>\n",
       "      <th>One year</th>\n",
       "      <th>Two year</th>\n",
       "      <th>PaperlessBilling</th>\n",
       "      <th>Bank transfer (automatic)</th>\n",
       "      <th>Credit card (automatic)</th>\n",
       "      <th>Electronic check</th>\n",
       "      <th>Mailed check</th>\n",
       "      <th>Churn</th>\n",
       "    </tr>\n",
       "  </thead>\n",
       "  <tbody>\n",
       "    <tr>\n",
       "      <th>0</th>\n",
       "      <td>1</td>\n",
       "      <td>29.85</td>\n",
       "      <td>29.85</td>\n",
       "      <td>0</td>\n",
       "      <td>0</td>\n",
       "      <td>1</td>\n",
       "      <td>0</td>\n",
       "      <td>0</td>\n",
       "      <td>0</td>\n",
       "      <td>1</td>\n",
       "      <td>0</td>\n",
       "      <td>0</td>\n",
       "      <td>0</td>\n",
       "      <td>1</td>\n",
       "      <td>0</td>\n",
       "      <td>0</td>\n",
       "      <td>0</td>\n",
       "      <td>0</td>\n",
       "      <td>1</td>\n",
       "      <td>0</td>\n",
       "      <td>0</td>\n",
       "      <td>1</td>\n",
       "      <td>0</td>\n",
       "      <td>0</td>\n",
       "      <td>1</td>\n",
       "      <td>0</td>\n",
       "      <td>0</td>\n",
       "    </tr>\n",
       "    <tr>\n",
       "      <th>1</th>\n",
       "      <td>34</td>\n",
       "      <td>56.95</td>\n",
       "      <td>1889.50</td>\n",
       "      <td>1</td>\n",
       "      <td>0</td>\n",
       "      <td>0</td>\n",
       "      <td>0</td>\n",
       "      <td>1</td>\n",
       "      <td>0</td>\n",
       "      <td>1</td>\n",
       "      <td>0</td>\n",
       "      <td>0</td>\n",
       "      <td>1</td>\n",
       "      <td>0</td>\n",
       "      <td>1</td>\n",
       "      <td>0</td>\n",
       "      <td>0</td>\n",
       "      <td>0</td>\n",
       "      <td>0</td>\n",
       "      <td>1</td>\n",
       "      <td>0</td>\n",
       "      <td>0</td>\n",
       "      <td>0</td>\n",
       "      <td>0</td>\n",
       "      <td>0</td>\n",
       "      <td>1</td>\n",
       "      <td>0</td>\n",
       "    </tr>\n",
       "    <tr>\n",
       "      <th>2</th>\n",
       "      <td>2</td>\n",
       "      <td>53.85</td>\n",
       "      <td>108.15</td>\n",
       "      <td>1</td>\n",
       "      <td>0</td>\n",
       "      <td>0</td>\n",
       "      <td>0</td>\n",
       "      <td>1</td>\n",
       "      <td>0</td>\n",
       "      <td>1</td>\n",
       "      <td>0</td>\n",
       "      <td>0</td>\n",
       "      <td>1</td>\n",
       "      <td>1</td>\n",
       "      <td>0</td>\n",
       "      <td>0</td>\n",
       "      <td>0</td>\n",
       "      <td>0</td>\n",
       "      <td>1</td>\n",
       "      <td>0</td>\n",
       "      <td>0</td>\n",
       "      <td>1</td>\n",
       "      <td>0</td>\n",
       "      <td>0</td>\n",
       "      <td>0</td>\n",
       "      <td>1</td>\n",
       "      <td>1</td>\n",
       "    </tr>\n",
       "    <tr>\n",
       "      <th>3</th>\n",
       "      <td>45</td>\n",
       "      <td>42.30</td>\n",
       "      <td>1840.75</td>\n",
       "      <td>1</td>\n",
       "      <td>0</td>\n",
       "      <td>0</td>\n",
       "      <td>0</td>\n",
       "      <td>0</td>\n",
       "      <td>0</td>\n",
       "      <td>1</td>\n",
       "      <td>0</td>\n",
       "      <td>0</td>\n",
       "      <td>1</td>\n",
       "      <td>0</td>\n",
       "      <td>1</td>\n",
       "      <td>1</td>\n",
       "      <td>0</td>\n",
       "      <td>0</td>\n",
       "      <td>0</td>\n",
       "      <td>1</td>\n",
       "      <td>0</td>\n",
       "      <td>0</td>\n",
       "      <td>1</td>\n",
       "      <td>0</td>\n",
       "      <td>0</td>\n",
       "      <td>0</td>\n",
       "      <td>0</td>\n",
       "    </tr>\n",
       "    <tr>\n",
       "      <th>4</th>\n",
       "      <td>2</td>\n",
       "      <td>70.70</td>\n",
       "      <td>151.65</td>\n",
       "      <td>0</td>\n",
       "      <td>0</td>\n",
       "      <td>0</td>\n",
       "      <td>0</td>\n",
       "      <td>1</td>\n",
       "      <td>0</td>\n",
       "      <td>0</td>\n",
       "      <td>1</td>\n",
       "      <td>0</td>\n",
       "      <td>0</td>\n",
       "      <td>0</td>\n",
       "      <td>0</td>\n",
       "      <td>0</td>\n",
       "      <td>0</td>\n",
       "      <td>0</td>\n",
       "      <td>1</td>\n",
       "      <td>0</td>\n",
       "      <td>0</td>\n",
       "      <td>1</td>\n",
       "      <td>0</td>\n",
       "      <td>0</td>\n",
       "      <td>1</td>\n",
       "      <td>0</td>\n",
       "      <td>1</td>\n",
       "    </tr>\n",
       "    <tr>\n",
       "      <th>5</th>\n",
       "      <td>8</td>\n",
       "      <td>99.65</td>\n",
       "      <td>820.50</td>\n",
       "      <td>0</td>\n",
       "      <td>0</td>\n",
       "      <td>0</td>\n",
       "      <td>0</td>\n",
       "      <td>1</td>\n",
       "      <td>1</td>\n",
       "      <td>0</td>\n",
       "      <td>1</td>\n",
       "      <td>0</td>\n",
       "      <td>0</td>\n",
       "      <td>0</td>\n",
       "      <td>1</td>\n",
       "      <td>0</td>\n",
       "      <td>1</td>\n",
       "      <td>1</td>\n",
       "      <td>1</td>\n",
       "      <td>0</td>\n",
       "      <td>0</td>\n",
       "      <td>1</td>\n",
       "      <td>0</td>\n",
       "      <td>0</td>\n",
       "      <td>1</td>\n",
       "      <td>0</td>\n",
       "      <td>1</td>\n",
       "    </tr>\n",
       "    <tr>\n",
       "      <th>6</th>\n",
       "      <td>22</td>\n",
       "      <td>89.10</td>\n",
       "      <td>1949.40</td>\n",
       "      <td>1</td>\n",
       "      <td>0</td>\n",
       "      <td>0</td>\n",
       "      <td>1</td>\n",
       "      <td>1</td>\n",
       "      <td>1</td>\n",
       "      <td>0</td>\n",
       "      <td>1</td>\n",
       "      <td>0</td>\n",
       "      <td>0</td>\n",
       "      <td>1</td>\n",
       "      <td>0</td>\n",
       "      <td>0</td>\n",
       "      <td>1</td>\n",
       "      <td>0</td>\n",
       "      <td>1</td>\n",
       "      <td>0</td>\n",
       "      <td>0</td>\n",
       "      <td>1</td>\n",
       "      <td>0</td>\n",
       "      <td>1</td>\n",
       "      <td>0</td>\n",
       "      <td>0</td>\n",
       "      <td>0</td>\n",
       "    </tr>\n",
       "    <tr>\n",
       "      <th>7</th>\n",
       "      <td>10</td>\n",
       "      <td>29.75</td>\n",
       "      <td>301.90</td>\n",
       "      <td>0</td>\n",
       "      <td>0</td>\n",
       "      <td>0</td>\n",
       "      <td>0</td>\n",
       "      <td>0</td>\n",
       "      <td>0</td>\n",
       "      <td>1</td>\n",
       "      <td>0</td>\n",
       "      <td>0</td>\n",
       "      <td>1</td>\n",
       "      <td>0</td>\n",
       "      <td>0</td>\n",
       "      <td>0</td>\n",
       "      <td>0</td>\n",
       "      <td>0</td>\n",
       "      <td>1</td>\n",
       "      <td>0</td>\n",
       "      <td>0</td>\n",
       "      <td>0</td>\n",
       "      <td>0</td>\n",
       "      <td>0</td>\n",
       "      <td>0</td>\n",
       "      <td>1</td>\n",
       "      <td>0</td>\n",
       "    </tr>\n",
       "    <tr>\n",
       "      <th>8</th>\n",
       "      <td>28</td>\n",
       "      <td>104.80</td>\n",
       "      <td>3046.05</td>\n",
       "      <td>0</td>\n",
       "      <td>0</td>\n",
       "      <td>1</td>\n",
       "      <td>0</td>\n",
       "      <td>1</td>\n",
       "      <td>1</td>\n",
       "      <td>0</td>\n",
       "      <td>1</td>\n",
       "      <td>0</td>\n",
       "      <td>0</td>\n",
       "      <td>0</td>\n",
       "      <td>1</td>\n",
       "      <td>1</td>\n",
       "      <td>1</td>\n",
       "      <td>1</td>\n",
       "      <td>1</td>\n",
       "      <td>0</td>\n",
       "      <td>0</td>\n",
       "      <td>1</td>\n",
       "      <td>0</td>\n",
       "      <td>0</td>\n",
       "      <td>1</td>\n",
       "      <td>0</td>\n",
       "      <td>1</td>\n",
       "    </tr>\n",
       "    <tr>\n",
       "      <th>9</th>\n",
       "      <td>62</td>\n",
       "      <td>56.15</td>\n",
       "      <td>3487.95</td>\n",
       "      <td>1</td>\n",
       "      <td>0</td>\n",
       "      <td>0</td>\n",
       "      <td>1</td>\n",
       "      <td>1</td>\n",
       "      <td>0</td>\n",
       "      <td>1</td>\n",
       "      <td>0</td>\n",
       "      <td>0</td>\n",
       "      <td>1</td>\n",
       "      <td>1</td>\n",
       "      <td>0</td>\n",
       "      <td>0</td>\n",
       "      <td>0</td>\n",
       "      <td>0</td>\n",
       "      <td>0</td>\n",
       "      <td>1</td>\n",
       "      <td>0</td>\n",
       "      <td>0</td>\n",
       "      <td>1</td>\n",
       "      <td>0</td>\n",
       "      <td>0</td>\n",
       "      <td>0</td>\n",
       "      <td>0</td>\n",
       "    </tr>\n",
       "  </tbody>\n",
       "</table>\n",
       "</div>"
      ],
      "text/plain": [
       "   tenure  MonthlyCharges  TotalCharges  Male 1 female 0  SeniorCitizen  \\\n",
       "0       1           29.85         29.85                0              0   \n",
       "1      34           56.95       1889.50                1              0   \n",
       "2       2           53.85        108.15                1              0   \n",
       "3      45           42.30       1840.75                1              0   \n",
       "4       2           70.70        151.65                0              0   \n",
       "5       8           99.65        820.50                0              0   \n",
       "6      22           89.10       1949.40                1              0   \n",
       "7      10           29.75        301.90                0              0   \n",
       "8      28          104.80       3046.05                0              0   \n",
       "9      62           56.15       3487.95                1              0   \n",
       "\n",
       "   Partner  Dependents  PhoneService  MultipleLines  DSL  Fiber optic  No  \\\n",
       "0        1           0             0              0    1            0   0   \n",
       "1        0           0             1              0    1            0   0   \n",
       "2        0           0             1              0    1            0   0   \n",
       "3        0           0             0              0    1            0   0   \n",
       "4        0           0             1              0    0            1   0   \n",
       "5        0           0             1              1    0            1   0   \n",
       "6        0           1             1              1    0            1   0   \n",
       "7        0           0             0              0    1            0   0   \n",
       "8        1           0             1              1    0            1   0   \n",
       "9        0           1             1              0    1            0   0   \n",
       "\n",
       "   OnlineSecurity  OnlineBackup  DeviceProtection  TechSupport  StreamingTV  \\\n",
       "0               0             1                 0            0            0   \n",
       "1               1             0                 1            0            0   \n",
       "2               1             1                 0            0            0   \n",
       "3               1             0                 1            1            0   \n",
       "4               0             0                 0            0            0   \n",
       "5               0             0                 1            0            1   \n",
       "6               0             1                 0            0            1   \n",
       "7               1             0                 0            0            0   \n",
       "8               0             0                 1            1            1   \n",
       "9               1             1                 0            0            0   \n",
       "\n",
       "   StreamingMovies  Month-to-month  One year  Two year  PaperlessBilling  \\\n",
       "0                0               1         0         0                 1   \n",
       "1                0               0         1         0                 0   \n",
       "2                0               1         0         0                 1   \n",
       "3                0               0         1         0                 0   \n",
       "4                0               1         0         0                 1   \n",
       "5                1               1         0         0                 1   \n",
       "6                0               1         0         0                 1   \n",
       "7                0               1         0         0                 0   \n",
       "8                1               1         0         0                 1   \n",
       "9                0               0         1         0                 0   \n",
       "\n",
       "   Bank transfer (automatic)  Credit card (automatic)  Electronic check  \\\n",
       "0                          0                        0                 1   \n",
       "1                          0                        0                 0   \n",
       "2                          0                        0                 0   \n",
       "3                          1                        0                 0   \n",
       "4                          0                        0                 1   \n",
       "5                          0                        0                 1   \n",
       "6                          0                        1                 0   \n",
       "7                          0                        0                 0   \n",
       "8                          0                        0                 1   \n",
       "9                          1                        0                 0   \n",
       "\n",
       "   Mailed check  Churn  \n",
       "0             0      0  \n",
       "1             1      0  \n",
       "2             1      1  \n",
       "3             0      0  \n",
       "4             0      1  \n",
       "5             0      1  \n",
       "6             0      0  \n",
       "7             1      0  \n",
       "8             0      1  \n",
       "9             0      0  "
      ]
     },
     "execution_count": 70,
     "metadata": {},
     "output_type": "execute_result"
    }
   ],
   "source": [
    "fresh_df.head(10)"
   ]
  },
  {
   "cell_type": "code",
   "execution_count": null,
   "metadata": {},
   "outputs": [],
   "source": []
  }
 ],
 "metadata": {
  "kernelspec": {
   "display_name": "Python 3",
   "language": "python",
   "name": "python3"
  },
  "language_info": {
   "codemirror_mode": {
    "name": "ipython",
    "version": 3
   },
   "file_extension": ".py",
   "mimetype": "text/x-python",
   "name": "python",
   "nbconvert_exporter": "python",
   "pygments_lexer": "ipython3",
   "version": "3.8.8"
  }
 },
 "nbformat": 4,
 "nbformat_minor": 4
}
